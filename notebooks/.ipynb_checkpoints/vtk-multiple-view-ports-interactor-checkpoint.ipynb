{
 "cells": [
  {
   "cell_type": "code",
   "execution_count": 1,
   "metadata": {
    "collapsed": true
   },
   "outputs": [],
   "source": [
    "import os, sys, inspect\n",
    "from PyQt5.QtWidgets import QApplication\n",
    "import vtk\n",
    "from vtk import vtkCommand\n",
    "from vtk.qt.QVTKRenderWindowInteractor import QVTKRenderWindowInteractor\n",
    "import numpy as np"
   ]
  },
  {
   "cell_type": "markdown",
   "metadata": {},
   "source": [
    "# Render Window and Interactor"
   ]
  },
  {
   "cell_type": "code",
   "execution_count": 2,
   "metadata": {
    "collapsed": true
   },
   "outputs": [],
   "source": [
    "##############################\n",
    "## QVTKRenderWindowMultiView\n",
    "##############################\n",
    "class QVTKRenderWindowMultiView(QVTKRenderWindowInteractor):\n",
    "    def __init__(self, parent=None):\n",
    "        super().__init__(parent)\n",
    "        self.renderWindow =  self.GetRenderWindow()\n",
    "        self.viewPorts = {\n",
    "            'topLeft':     (0, .5, .5, 1),\n",
    "            'topRight':    (.5, .5, 1, 1),\n",
    "            'bottomLeft':  (0, 0, .5, .5),\n",
    "            'bottomRight': (.5, 0, 1, .5)\n",
    "        }\n",
    "        self.renderers = {\n",
    "            'topLeft':     vtk.vtkRenderer(),\n",
    "            'topRight':    vtk.vtkRenderer(),\n",
    "            'bottomLeft':  vtk.vtkRenderer(),\n",
    "            'bottomRight': vtk.vtkRenderer()\n",
    "        }\n",
    "        \n",
    "        for key, ren in self.renderers.items():\n",
    "            ren.SetViewport(*self.viewPorts[key])\n",
    "            self.renderWindow.AddRenderer(ren)\n",
    "            \n",
    "        self.interactor = self.renderWindow.GetInteractor()\n",
    "        self.interactor.SetInteractorStyle(MultiViewInteractorStyle(viewer=self))\n",
    "        self.actors = {}\n",
    "\n",
    "    def addActorToScene(self, viewPort, actor, id):\n",
    "        self.actors[id] = actor\n",
    "        self.renderers[viewPort].AddActor(actor)\n",
    "\n",
    "    def startEventLoop(self):\n",
    "        self.interactor.Initialize()\n",
    "\n",
    "##############################\n",
    "## MultiViewInteractorStyle\n",
    "##############################\n",
    "class MultiViewInteractorStyle(vtk.vtkInteractorStyleUser):\n",
    "    \n",
    "    def __init__(self, viewer=None):\n",
    "        self.viewer = viewer\n",
    "        self.AddObserver(vtkCommand.LeftButtonPressEvent, self.leftButtonPressEvent)\n",
    "  \n",
    "    def leftButtonPressEvent(self, obj, event):    \n",
    "        pos = obj.GetInteractor().GetEventPosition()\n",
    "        ren = obj.GetInteractor().FindPokedRenderer(*pos) # Find Poked Render does not work\n",
    "        print(pos, ren.GetViewport())\n"
   ]
  },
  {
   "cell_type": "code",
   "execution_count": 3,
   "metadata": {},
   "outputs": [
    {
     "name": "stdout",
     "output_type": "stream",
     "text": [
      "(114, 423) (0.0, 0.0, 0.5, 0.5)\n",
      "(226, 424) (0.0, 0.0, 0.5, 0.5)\n",
      "(246, 192) (0.0, 0.0, 0.5, 0.5)\n"
     ]
    },
    {
     "ename": "SystemExit",
     "evalue": "0",
     "output_type": "error",
     "traceback": [
      "An exception has occurred, use %tb to see the full traceback.\n",
      "\u001b[0;31mSystemExit\u001b[0m\u001b[0;31m:\u001b[0m 0\n"
     ]
    },
    {
     "name": "stderr",
     "output_type": "stream",
     "text": [
      "/usr/local/lib/python3.6/site-packages/IPython/core/interactiveshell.py:2870: UserWarning: To exit: use 'exit', 'quit', or Ctrl-D.\n",
      "  warn(\"To exit: use 'exit', 'quit', or Ctrl-D.\", stacklevel=1)\n"
     ]
    }
   ],
   "source": [
    "app = QApplication([])\n",
    "\n",
    "# vtk component\n",
    "vtkWidget = QVTKRenderWindowMultiView()\n",
    "vtkWidget.setMinimumWidth(800)\n",
    "vtkWidget.setMinimumHeight(600)\n",
    "multiviewInteractorStyle = MultiViewInteractorStyle()\n",
    "vtkWidget.interactor.SetInteractorStyle(multiviewInteractorStyle)\n",
    "\n",
    "# Create source\n",
    "source = vtk.vtkSphereSource()\n",
    "source.SetCenter(0, 0, 0)\n",
    "source.SetRadius(5.0)\n",
    "\n",
    "# Create a mapper\n",
    "mapper = vtk.vtkPolyDataMapper()\n",
    "mapper.SetInputConnection(source.GetOutputPort())\n",
    "\n",
    "# Create an actor\n",
    "actor = vtk.vtkActor()\n",
    "actor.SetMapper(mapper)\n",
    "vtkWidget.addActorToScene('topLeft', actor, 'sphere')\n",
    "vtkWidget.addActorToScene('topRight', actor, 'sphere')\n",
    "vtkWidget.addActorToScene('bottomLeft', actor, 'sphere')\n",
    "vtkWidget.addActorToScene('bottomRight', actor, 'sphere')\n",
    "\n",
    "# Start\n",
    "vtkWidget.show()\n",
    "vtkWidget.startEventLoop()\n",
    "sys.exit(app.exec_())"
   ]
  },
  {
   "cell_type": "code",
   "execution_count": null,
   "metadata": {
    "collapsed": true
   },
   "outputs": [],
   "source": []
  }
 ],
 "metadata": {
  "kernelspec": {
   "display_name": "Python 3",
   "language": "python",
   "name": "python3"
  },
  "language_info": {
   "codemirror_mode": {
    "name": "ipython",
    "version": 3
   },
   "file_extension": ".py",
   "mimetype": "text/x-python",
   "name": "python",
   "nbconvert_exporter": "python",
   "pygments_lexer": "ipython3",
   "version": "3.6.2"
  }
 },
 "nbformat": 4,
 "nbformat_minor": 2
}
