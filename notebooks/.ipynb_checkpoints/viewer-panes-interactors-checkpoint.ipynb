{
 "cells": [
  {
   "cell_type": "code",
   "execution_count": null,
   "metadata": {
    "collapsed": true
   },
   "outputs": [],
   "source": [
    "import os, sys\n",
    "from PyQt5.QtWidgets import QApplication\n",
    "import vtk\n",
    "from vtk import vtkCommand\n",
    "from vtk.qt.QVTKRenderWindowInteractor import QVTKRenderWindowInteractor\n",
    "import numpy as np"
   ]
  },
  {
   "cell_type": "markdown",
   "metadata": {},
   "source": [
    "# Framework\n",
    "\n",
    "This is the prototype framework for our app. There are 2 higher level components, Panes and Viewer. Clicking on the screen will forward to event to the correct Pane. The Pane can then be responsible for dealing with events."
   ]
  },
  {
   "cell_type": "markdown",
   "metadata": {},
   "source": [
    "# Pane"
   ]
  },
  {
   "cell_type": "code",
   "execution_count": null,
   "metadata": {
    "collapsed": true
   },
   "outputs": [],
   "source": [
    "class Pane():\n",
    "    \n",
    "    scene = {}\n",
    "    \n",
    "    def __init__(self, uid, renderer, viewPort, viewer):\n",
    "        self.uid = uid\n",
    "        self.renderer = renderer\n",
    "        self.viewer = viewer\n",
    "        self.viewPort = viewPort\n",
    "        # set viewport\n",
    "        renderer.SetViewport(viewPort)\n",
    "        # add to viewer render window\n",
    "        viewer.renderWindow.AddRenderer(renderer)\n",
    "    \n",
    "    def isPointInPane(self, x, y):\n",
    "        (w, h) = self.viewer.renderWindow.GetSize()\n",
    "        x = x / w\n",
    "        y = y / h\n",
    "        return x > self.viewPort[0] and x < self.viewPort[2] and y > self.viewPort[1] and y < self.viewPort[3]\n",
    "        \n",
    "    def onInteractorEvent(self, event, eventData):\n",
    "        print(self.uid, event, eventData)\n"
   ]
  },
  {
   "cell_type": "markdown",
   "metadata": {},
   "source": [
    "# Viewer Interactor Style"
   ]
  },
  {
   "cell_type": "code",
   "execution_count": null,
   "metadata": {
    "collapsed": true
   },
   "outputs": [],
   "source": [
    "class ViewerInteractorStyle(vtk.vtkInteractorStyleUser):\n",
    "    \n",
    "    def __init__(self, viewer):\n",
    "        self.viewer = viewer        \n",
    "        self.AddObserver(vtkCommand.LeftButtonPressEvent, self.leftButtonPressEvent)\n",
    "  \n",
    "    def leftButtonPressEvent(self, obj, event):    \n",
    "        (x, y) = obj.GetInteractor().GetEventPosition()\n",
    "        ratio = self.viewer.devicePixelRatio() # VTK BUG for Retina Display\n",
    "        x = x*ratio\n",
    "        y = y*ratio\n",
    "        \n",
    "        # forward events to the right panes\n",
    "        for uid, pane in self.viewer.panes.items():    \n",
    "            if pane.isPointInPane(x, y):\n",
    "                pane.onInteractorEvent(event, (x, y))\n"
   ]
  },
  {
   "cell_type": "markdown",
   "metadata": {},
   "source": [
    "# Viewer"
   ]
  },
  {
   "cell_type": "code",
   "execution_count": null,
   "metadata": {
    "collapsed": true
   },
   "outputs": [],
   "source": [
    "class Viewer(QVTKRenderWindowInteractor):\n",
    "    \n",
    "    panes = {}\n",
    "    \n",
    "    def __init__(self, parent=None):\n",
    "        super().__init__(parent)\n",
    "        self.renderWindow =  self.GetRenderWindow()\n",
    "        self.interactor = self.renderWindow.GetInteractor()\n",
    "        self.interactor.SetInteractorStyle(ViewerInteractorStyle(self))\n",
    "    \n",
    "    def addPane(self, uid, renderer, viewPort):\n",
    "        self.panes[uid] = Pane(uid, renderer, viewPort, self)\n",
    "    \n",
    "    def startEventLoop(self):\n",
    "        self.interactor.Initialize()\n",
    "        "
   ]
  },
  {
   "cell_type": "code",
   "execution_count": null,
   "metadata": {},
   "outputs": [],
   "source": [
    "app = QApplication([])\n",
    "\n",
    "# viewer\n",
    "viewer = Viewer()\n",
    "# viewer.setMinimumWidth(800)\n",
    "# viewer.setMinimumHeight(600)\n",
    "\n",
    "# Create source\n",
    "source = vtk.vtkSphereSource()\n",
    "source.SetCenter(0, 0, 0)\n",
    "source.SetRadius(5.0)\n",
    "# Create a mapper\n",
    "mapper = vtk.vtkPolyDataMapper()\n",
    "mapper.SetInputConnection(source.GetOutputPort())\n",
    "# Create an actor\n",
    "actor = vtk.vtkActor()\n",
    "actor.SetMapper(mapper)\n",
    "# Create renderer\n",
    "ren = vtk.vtkRenderer()\n",
    "ren.AddActor(actor)\n",
    "\n",
    "# add panes\n",
    "viewer.addPane('TL', ren, (0,.5,.5,1))\n",
    "viewer.addPane('TR', ren, (.5,.5,1,1))\n",
    "viewer.addPane('BL', ren, (0,0,.5,.5))\n",
    "viewer.addPane('BR', ren, (.5,0,1,.5))\n",
    "\n",
    "viewer.show()\n",
    "viewer.startEventLoop()\n",
    "sys.exit(app.exec_())"
   ]
  },
  {
   "cell_type": "code",
   "execution_count": null,
   "metadata": {
    "collapsed": true
   },
   "outputs": [],
   "source": []
  }
 ],
 "metadata": {
  "kernelspec": {
   "display_name": "Python 3",
   "language": "python",
   "name": "python3"
  },
  "language_info": {
   "codemirror_mode": {
    "name": "ipython",
    "version": 3
   },
   "file_extension": ".py",
   "mimetype": "text/x-python",
   "name": "python",
   "nbconvert_exporter": "python",
   "pygments_lexer": "ipython3",
   "version": "3.6.2"
  }
 },
 "nbformat": 4,
 "nbformat_minor": 2
}
