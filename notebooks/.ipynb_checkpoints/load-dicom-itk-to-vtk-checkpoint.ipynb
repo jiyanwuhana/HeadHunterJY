{
 "cells": [
  {
   "cell_type": "code",
   "execution_count": 1,
   "metadata": {
    "collapsed": true
   },
   "outputs": [],
   "source": [
    "import os\n",
    "import itk\n",
    "import vtk\n",
    "from vtk import vtkCommand\n",
    "import numpy as np\n",
    "import matplotlib.pyplot as plt"
   ]
  },
  {
   "cell_type": "code",
   "execution_count": 2,
   "metadata": {},
   "outputs": [],
   "source": [
    "# DICOM_PATH = \"./001321140\"\n",
    "DICOM_PATH = \"/Users/benjaminhon/Developer/data/bpynz/M489106/001321140\""
   ]
  },
  {
   "cell_type": "markdown",
   "metadata": {},
   "source": [
    "# Read DICOM to Image"
   ]
  },
  {
   "cell_type": "code",
   "execution_count": 3,
   "metadata": {
    "collapsed": true
   },
   "outputs": [],
   "source": [
    "# image type pixel type, dimensions\n",
    "inputImageType = itk.Image[itk.F, 3]\n",
    "reader = itk.ImageSeriesReader[inputImageType].New()\n",
    "# generate dicom series file names\n",
    "generator = itk.GDCMSeriesFileNames.New()\n",
    "generator.SetDirectory(DICOM_PATH)\n",
    "seriesUIDs = generator.GetSeriesUIDs()\n",
    "series = { uid: generator.GetFileNames(uid) for uid in generator.GetSeriesUIDs() }\n",
    "# itk series reader, select a series of file names\n",
    "reader.SetFileNames(series[seriesUIDs[3]])"
   ]
  },
  {
   "cell_type": "markdown",
   "metadata": {},
   "source": [
    "# ITK to VTK"
   ]
  },
  {
   "cell_type": "code",
   "execution_count": 4,
   "metadata": {},
   "outputs": [],
   "source": [
    "# output image is UC\n",
    "outputImageType = itk.Image[itk.UC, 3]\n",
    "\n",
    "# itk series reader \n",
    "# -> RescaleIntensityImageFilter \n",
    "# -> CastImageFilter \n",
    "# -> ImageToVTKImageFilter \n",
    "# -> vtk image\n",
    "rescaler = itk.RescaleIntensityImageFilter[inputImageType, inputImageType].New()\n",
    "rescaler.SetInput(reader.GetOutput())\n",
    "rescaler.SetOutputMaximum(255)\n",
    "rescaler.SetOutputMinimum(0)\n",
    "\n",
    "caster = itk.CastImageFilter[inputImageType, outputImageType].New()\n",
    "caster.SetInput(rescaler.GetOutput())\n",
    "\n",
    "itkToVtkConverter = itk.ImageToVTKImageFilter[outputImageType].New()\n",
    "itkToVtkConverter.SetInput(caster.GetOutput())\n",
    "itkToVtkConverter.Update()"
   ]
  },
  {
   "cell_type": "markdown",
   "metadata": {},
   "source": [
    "# Overlay Segmentation"
   ]
  },
  {
   "cell_type": "code",
   "execution_count": 5,
   "metadata": {},
   "outputs": [
    {
     "ename": "KeyError",
     "evalue": "\"itkTemplate : No template (<class 'ITKLabelMapBasePython.itkLabelMap3'>, <itkCType unsigned char>, <class 'itkImagePython.itkImageRGBUC3'>) for the itk::LabelMapOverlayImageFilter class\"",
     "output_type": "error",
     "traceback": [
      "\u001b[0;31m---------------------------------------------------------------------------\u001b[0m",
      "\u001b[0;31mKeyError\u001b[0m                                  Traceback (most recent call last)",
      "\u001b[0;32m/usr/local/Cellar/insighttoolkit/4.12.1/lib/python3.6/site-packages/itkTemplate.py\u001b[0m in \u001b[0;36m__getitem__\u001b[0;34m(self, parameters)\u001b[0m\n\u001b[1;32m    258\u001b[0m         \u001b[0;32mtry\u001b[0m\u001b[0;34m:\u001b[0m\u001b[0;34m\u001b[0m\u001b[0m\n\u001b[0;32m--> 259\u001b[0;31m             \u001b[0;32mreturn\u001b[0m\u001b[0;34m(\u001b[0m\u001b[0mself\u001b[0m\u001b[0;34m.\u001b[0m\u001b[0m__template__\u001b[0m\u001b[0;34m[\u001b[0m\u001b[0mtuple\u001b[0m\u001b[0;34m(\u001b[0m\u001b[0mcleanParameters\u001b[0m\u001b[0;34m)\u001b[0m\u001b[0;34m]\u001b[0m\u001b[0;34m)\u001b[0m\u001b[0;34m\u001b[0m\u001b[0m\n\u001b[0m\u001b[1;32m    260\u001b[0m         \u001b[0;32mexcept\u001b[0m\u001b[0;34m:\u001b[0m\u001b[0;34m\u001b[0m\u001b[0m\n",
      "\u001b[0;31mKeyError\u001b[0m: (<class 'ITKLabelMapBasePython.itkLabelMap3'>, <itkCType unsigned char>, <class 'itkImagePython.itkImageRGBUC3'>)",
      "\nDuring handling of the above exception, another exception occurred:\n",
      "\u001b[0;31mKeyError\u001b[0m                                  Traceback (most recent call last)",
      "\u001b[0;32m/usr/local/Cellar/insighttoolkit/4.12.1/lib/python3.6/site-packages/itkTemplate.py\u001b[0m in \u001b[0;36m__getitem__\u001b[0;34m(self, parameters)\u001b[0m\n\u001b[1;32m    262\u001b[0m             \u001b[0;32mtry\u001b[0m\u001b[0;34m:\u001b[0m\u001b[0;34m\u001b[0m\u001b[0m\n\u001b[0;32m--> 263\u001b[0;31m                 \u001b[0;32mreturn\u001b[0m\u001b[0;34m(\u001b[0m\u001b[0mself\u001b[0m\u001b[0;34m.\u001b[0m\u001b[0m__template__\u001b[0m\u001b[0;34m[\u001b[0m\u001b[0mtuple\u001b[0m\u001b[0;34m(\u001b[0m\u001b[0mcleanParameters\u001b[0m\u001b[0;34m)\u001b[0m\u001b[0;34m]\u001b[0m\u001b[0;34m)\u001b[0m\u001b[0;34m\u001b[0m\u001b[0m\n\u001b[0m\u001b[1;32m    264\u001b[0m             \u001b[0;32mexcept\u001b[0m\u001b[0;34m:\u001b[0m\u001b[0;34m\u001b[0m\u001b[0m\n",
      "\u001b[0;31mKeyError\u001b[0m: (<class 'ITKLabelMapBasePython.itkLabelMap3'>, <itkCType unsigned char>, <class 'itkImagePython.itkImageRGBUC3'>)",
      "\nDuring handling of the above exception, another exception occurred:\n",
      "\u001b[0;31mKeyError\u001b[0m                                  Traceback (most recent call last)",
      "\u001b[0;32m<ipython-input-5-f3883b4286a9>\u001b[0m in \u001b[0;36m<module>\u001b[0;34m()\u001b[0m\n\u001b[1;32m      6\u001b[0m \u001b[0mOutputType\u001b[0m \u001b[0;34m=\u001b[0m \u001b[0mitk\u001b[0m\u001b[0;34m.\u001b[0m\u001b[0mImage\u001b[0m\u001b[0;34m[\u001b[0m\u001b[0mRGBPixelType\u001b[0m\u001b[0;34m,\u001b[0m \u001b[0;36m3\u001b[0m\u001b[0;34m]\u001b[0m\u001b[0;34m\u001b[0m\u001b[0m\n\u001b[1;32m      7\u001b[0m \u001b[0;34m\u001b[0m\u001b[0m\n\u001b[0;32m----> 8\u001b[0;31m \u001b[0moverlayImageFilter\u001b[0m \u001b[0;34m=\u001b[0m \u001b[0mitk\u001b[0m\u001b[0;34m.\u001b[0m\u001b[0mLabelMapOverlayImageFilter\u001b[0m\u001b[0;34m[\u001b[0m\u001b[0mLabelMapType\u001b[0m\u001b[0;34m,\u001b[0m \u001b[0mitk\u001b[0m\u001b[0;34m.\u001b[0m\u001b[0mUC\u001b[0m\u001b[0;34m,\u001b[0m \u001b[0mOutputType\u001b[0m\u001b[0;34m]\u001b[0m\u001b[0;34m.\u001b[0m\u001b[0mNew\u001b[0m\u001b[0;34m(\u001b[0m\u001b[0;34m)\u001b[0m\u001b[0;34m\u001b[0m\u001b[0m\n\u001b[0m\u001b[1;32m      9\u001b[0m \u001b[0;31m# overlayImageFilter.SetInput(converter.GetOutput())\u001b[0m\u001b[0;34m\u001b[0m\u001b[0;34m\u001b[0m\u001b[0m\n\u001b[1;32m     10\u001b[0m \u001b[0moverlayImageFilter\u001b[0m\u001b[0;34m.\u001b[0m\u001b[0mSetFeatureImage\u001b[0m\u001b[0;34m(\u001b[0m\u001b[0mitkToVtkConverter\u001b[0m\u001b[0;34m.\u001b[0m\u001b[0mGetOutput\u001b[0m\u001b[0;34m(\u001b[0m\u001b[0;34m)\u001b[0m\u001b[0;34m)\u001b[0m\u001b[0;34m\u001b[0m\u001b[0m\n",
      "\u001b[0;32m/usr/local/Cellar/insighttoolkit/4.12.1/lib/python3.6/site-packages/itkTemplate.py\u001b[0m in \u001b[0;36m__getitem__\u001b[0;34m(self, parameters)\u001b[0m\n\u001b[1;32m    265\u001b[0m                 raise KeyError(\n\u001b[1;32m    266\u001b[0m                     \u001b[0;34m'itkTemplate : No template %s for the %s class'\u001b[0m \u001b[0;34m%\u001b[0m\u001b[0;34m\u001b[0m\u001b[0m\n\u001b[0;32m--> 267\u001b[0;31m                     (str(parameters), self.__name__))\n\u001b[0m\u001b[1;32m    268\u001b[0m \u001b[0;34m\u001b[0m\u001b[0m\n\u001b[1;32m    269\u001b[0m     \u001b[0;32mdef\u001b[0m \u001b[0m__repr__\u001b[0m\u001b[0;34m(\u001b[0m\u001b[0mself\u001b[0m\u001b[0;34m)\u001b[0m\u001b[0;34m:\u001b[0m\u001b[0;34m\u001b[0m\u001b[0m\n",
      "\u001b[0;31mKeyError\u001b[0m: \"itkTemplate : No template (<class 'ITKLabelMapBasePython.itkLabelMap3'>, <itkCType unsigned char>, <class 'itkImagePython.itkImageRGBUC3'>) for the itk::LabelMapOverlayImageFilter class\""
     ]
    }
   ],
   "source": [
    "LabelType = itk.UL\n",
    "LabelObjectType = itk.StatisticsLabelObject[LabelType, 3]\n",
    "LabelMapType = itk.LabelMap[LabelObjectType]\n",
    "\n",
    "RGBPixelType = itk.RGBPixel[itk.UC]\n",
    "OutputType = itk.Image[RGBPixelType, 3]\n",
    "ImageType = itk.Image[itk.UC, 3]\n",
    "\n",
    "overlayImageFilter = itk.LabelMapOverlayImageFilter[LabelMapType, ImageType, OutputType].New()\n",
    "# overlayImageFilter.SetInput(converter.GetOutput())\n",
    "overlayImageFilter.SetFeatureImage(itkToVtkConverter.GetOutput())\n",
    "\n",
    "\n",
    "imageData = overlayImageFilter.GetOutput()\n",
    "print('Dimensions: ', imageData.GetDimensions())\n",
    "print('Spacing: ', imageData.GetSpacing())\n",
    "print('Origin: ', imageData.GetOrigin())"
   ]
  },
  {
   "cell_type": "markdown",
   "metadata": {},
   "source": [
    "# Custom Interactor Style"
   ]
  },
  {
   "cell_type": "code",
   "execution_count": null,
   "metadata": {
    "collapsed": true
   },
   "outputs": [],
   "source": [
    "class SliceViewInteractorStyle(vtk.vtkInteractorStyleUser):\n",
    "    def __init__(self, parent=None, imageViewer=None):\n",
    "        self.AddObserver(vtkCommand.MouseWheelForwardEvent, self.mouseWheelForwardEvent)        \n",
    "        self.AddObserver(vtkCommand.MouseWheelBackwardEvent, self.mouseWheelBackwardEvent)\n",
    "        if imageViewer:\n",
    "            self.imageViewer = imageViewer\n",
    "            self.minSlice = imageViewer.GetSliceMin()\n",
    "            self.maxSlice = imageViewer.GetSliceMax()\n",
    "            self.slice = round((self.minSlice + self.maxSlice) / 2)\n",
    "        \n",
    "    def nextSlice(self):\n",
    "        if self.imageViewer and self.slice < self.maxSlice:\n",
    "            self.slice = self.slice + 1\n",
    "            self.imageViewer.SetSlice(self.slice)\n",
    "\n",
    "    def previousSlice(self):\n",
    "        if self.imageViewer and self.slice > self.minSlice:\n",
    "            self.slice = self.slice - 1\n",
    "            self.imageViewer.SetSlice(self.slice)\n",
    "    \n",
    "    def mouseWheelForwardEvent(self, obj, event):\n",
    "        self.nextSlice()\n",
    "        return\n",
    "    \n",
    "    def mouseWheelBackwardEvent(self, obj, event):\n",
    "        self.previousSlice()\n",
    "        return"
   ]
  },
  {
   "cell_type": "markdown",
   "metadata": {},
   "source": [
    "# Display VTK\n",
    "\n",
    "Using itk python bindings seem to have issues and produce a noisy image"
   ]
  },
  {
   "cell_type": "code",
   "execution_count": null,
   "metadata": {},
   "outputs": [],
   "source": [
    "imageViewer = vtk.vtkImageViewer2()\n",
    "imageViewer.SetInputData(imageData)\n",
    "renderer = imageViewer.GetRenderer()\n",
    "\n",
    "renderer.SetViewport((0,0,0.5,0.5))\n",
    "\n",
    "renderer.GetActiveCamera().SetViewUp(0,-1,0) # itk origin is topleft, vtk origin is bottom left\n",
    "renderer.ResetCamera()\n",
    "renderWindow = imageViewer.GetRenderWindow() # Image viewer has its own render window !!!\n",
    "\n",
    "interactor = vtk.vtkRenderWindowInteractor()\n",
    "sliceInteractorStyle = SliceViewInteractorStyle(imageViewer=imageViewer)\n",
    "interactor.SetInteractorStyle(sliceInteractorStyle)\n",
    "interactor.SetRenderWindow(renderWindow)\n",
    "\n",
    "renderWindow.SetSize(1000,1000)\n",
    "renderWindow.Render()\n",
    "interactor.Initialize()\n",
    "interactor.Start()"
   ]
  },
  {
   "cell_type": "code",
   "execution_count": null,
   "metadata": {
    "collapsed": true
   },
   "outputs": [],
   "source": []
  }
 ],
 "metadata": {
  "kernelspec": {
   "display_name": "Python 3",
   "language": "python",
   "name": "python3"
  },
  "language_info": {
   "codemirror_mode": {
    "name": "ipython",
    "version": 3
   },
   "file_extension": ".py",
   "mimetype": "text/x-python",
   "name": "python",
   "nbconvert_exporter": "python",
   "pygments_lexer": "ipython3",
   "version": "3.6.2"
  }
 },
 "nbformat": 4,
 "nbformat_minor": 2
}
