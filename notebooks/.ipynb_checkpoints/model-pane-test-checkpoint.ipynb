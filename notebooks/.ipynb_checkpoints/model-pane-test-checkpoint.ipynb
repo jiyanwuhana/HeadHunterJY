{
 "cells": [
  {
   "cell_type": "code",
   "execution_count": 1,
   "metadata": {},
   "outputs": [],
   "source": [
    "import itk\n",
    "import vtk\n",
    "from vtk import vtkCommand\n",
    "import numpy as np\n",
    "import matplotlib.pyplot as plt\n",
    "%matplotlib inline\n",
    "\n",
    "IF3         = itk.Image[itk.F, 3]\n",
    "IUC3        = itk.Image[itk.UC, 3]\n",
    "IRGBUC3     = itk.Image[itk.RGBPixel[itk.UC], 3]\n",
    "LMLOUL3     = itk.LabelMap[itk.StatisticsLabelObject[itk.UL, 3]]\n",
    "\n",
    "class SliceViewInteractorStyle(vtk.vtkInteractorStyleUser):\n",
    "    def __init__(self, parent=None, imageViewer=None):\n",
    "        self.AddObserver(vtkCommand.MouseWheelForwardEvent, self.mouseWheelForwardEvent)        \n",
    "        self.AddObserver(vtkCommand.MouseWheelBackwardEvent, self.mouseWheelBackwardEvent)\n",
    "        if imageViewer:\n",
    "            self.imageViewer = imageViewer\n",
    "            self.minSlice = imageViewer.GetSliceMin()\n",
    "            self.maxSlice = imageViewer.GetSliceMax()\n",
    "            self.slice = round((self.minSlice + self.maxSlice) / 2)\n",
    "            print(self.minSlice, self.maxSlice)\n",
    "        \n",
    "    def nextSlice(self):\n",
    "        if self.imageViewer and self.slice < self.maxSlice:\n",
    "            self.slice = self.slice + 1\n",
    "            self.imageViewer.SetSlice(self.slice)\n",
    "            self.imageViewer.GetRenderer().Render()\n",
    "\n",
    "    def previousSlice(self):\n",
    "        if self.imageViewer and self.slice > self.minSlice:\n",
    "            self.slice = self.slice - 1\n",
    "            self.imageViewer.SetSlice(self.slice)\n",
    "            self.imageViewer.GetRenderer().Render()\n",
    "    \n",
    "    def mouseWheelForwardEvent(self, obj, event):\n",
    "        self.nextSlice()\n",
    "        return\n",
    "    \n",
    "    def mouseWheelBackwardEvent(self, obj, event):\n",
    "        self.previousSlice()\n",
    "        return\n",
    "\n",
    "class DicomSeries():\n",
    "  \n",
    "  def __init__(self, fileNames):\n",
    "    self.fileNames = fileNames\n",
    "    self.type = IUC3\n",
    "    self.generatePipeline(fileNames)\n",
    "\n",
    "  def generatePipeline(self, fileNames):\n",
    "    # itk.ImageFileReader -> itk.ImageSeriesReader -> \n",
    "    # RescaleIntensityImageFilter -> CastImageFilter -> \n",
    "    # itk.ImageToVTKImageFilter -> vtkImageViewer2\n",
    "    imageSeriesReader = itk.ImageSeriesReader[IF3].New()\n",
    "    imageSeriesReader.SetFileNames(fileNames)\n",
    "    imageSeriesReader.Update()\n",
    "    rescaler = itk.RescaleIntensityImageFilter[IF3, IF3].New()\n",
    "    rescaler.SetInput(imageSeriesReader.GetOutput())\n",
    "    rescaler.SetOutputMaximum(255)\n",
    "    rescaler.SetOutputMinimum(0)\n",
    "    rescaler.Update()\n",
    "    self.caster = itk.CastImageFilter[IF3, IUC3].New()\n",
    "    self.caster.SetInput(rescaler.GetOutput())\n",
    "    self.caster.Update()\n",
    "\n",
    "  def GetOutput(self):\n",
    "    return self.caster.GetOutput()\n",
    "\n",
    "class LabelMap():\n",
    "  \n",
    "  def __init__(self, referenceImage, niiPath=None, numpyLabelMap=None):\n",
    "    self.niiPath = niiPath\n",
    "    self.numpyLabelMap = numpyLabelMap\n",
    "    self.type = IUC3\n",
    "    self.referenceImage = referenceImage\n",
    "    if niiPath:\n",
    "      self.generatePipeline(referenceImage, niiPath=niiPath)\n",
    "    elif numpyLabelMap:\n",
    "      self.generatePipeline(referenceImage, numpyLabelMap=numpyLabelMap)\n",
    "\n",
    "  def generatePipeline(self, referenceImage, niiPath=None, numpyLabelMap=None):\n",
    "    if niiPath:\n",
    "      # itk.ResampleImageFilter -> itk.LabelImageToLabelMapFilter -> itk.LabelMapOverlayImageFilter\n",
    "      niiReader = itk.ImageFileReader[IUC3].New()\n",
    "      niiReader.SetFileName(niiPath)\n",
    "      niiReader.Update()\n",
    "\n",
    "      multFilter = itk.MultiplyImageFilter[IUC3, IUC3, IUC3].New()\n",
    "      multFilter.SetInput(niiReader.GetOutput())\n",
    "      multFilter.SetConstant(100)\n",
    "\n",
    "        \n",
    "      self.resampleImageFilter = itk.ResampleImageFilter[IUC3, IUC3].New()\n",
    "      self.resampleImageFilter.SetInput(multFilter.GetOutput())\n",
    "      self.resampleImageFilter.SetTransform(itk.IdentityTransform[itk.D, 3].New())\n",
    "      self.resampleImageFilter.SetInterpolator(itk.NearestNeighborInterpolateImageFunction[IUC3, itk.D].New())\n",
    "      self.resampleImageFilter.UseReferenceImageOn()\n",
    "      self.resampleImageFilter.SetReferenceImage(referenceImage)\n",
    "      self.resampleImageFilter.Update()\n",
    "\n",
    "    elif numpyLabelMap:\n",
    "      # Itk.changeInformationImageFilter -> itk.ResampleImageFilter -> itk.LabelImageToLabelMapFilter -> itk.LabelMapOverlayImageFilter\n",
    "      changeInformationImageFilter = itk.ChangeInformationImageFilter[IUC3].New()\n",
    "      changeInformationImageFilter.SetInput(numpyLabelMap)\n",
    "      changeInformationImageFilter.UseReferenceImageOn()\n",
    "      changeInformationImageFilter.ChangeDirectionOn()\n",
    "      changeInformationImageFilter.ChangeSpacingOn()\n",
    "      changeInformationImageFilter.ChangeOriginOn()\n",
    "      changeInformationImageFilter.SetReferenceImage(caster.GetOutput())\n",
    "      self.resampleImageFilter = itk.ResampleImageFilter[IUC3, IUC3].New()\n",
    "      self.resampleImageFilter.SetInput(changeInformationImageFilter.GetOutput())\n",
    "      self.resampleImageFilter.SetTransform(itk.IdentityTransform[itk.D, 3].New())\n",
    "      self.resampleImageFilter.SetInterpolator(itk.NearestNeighborInterpolateImageFunction[IUC3, itk.D].New())\n",
    "      self.resampleImageFilter.UseReferenceImageOn()\n",
    "      self.resampleImageFilter.SetReferenceImage(referenceImage)\n",
    "\n",
    "  def GetOutput(self):\n",
    "    return self.resampleImageFilter.GetOutput()"
   ]
  },
  {
   "cell_type": "code",
   "execution_count": 2,
   "metadata": {
    "collapsed": true
   },
   "outputs": [],
   "source": [
    "NII_PATH = \"/Users/benjaminhon/Developer/HeadHunter/notebooks/220259.nii\"\n",
    "DICOM_PATH = \"/Users/benjaminhon/Developer/HeadHunter/notebooks/220259\"\n",
    "\n",
    "def generateSeries(path):\n",
    "    generator = itk.GDCMSeriesFileNames.New()\n",
    "    generator.SetDirectory(path)\n",
    "    seriesUIDs = generator.GetSeriesUIDs()\n",
    "    series = { uid: generator.GetFileNames(uid) for uid in generator.GetSeriesUIDs() }\n",
    "    return (series, seriesUIDs)"
   ]
  },
  {
   "cell_type": "code",
   "execution_count": 3,
   "metadata": {},
   "outputs": [],
   "source": [
    "(series, seriesUIDs) = generateSeries(DICOM_PATH)\n",
    "dicomSeries = DicomSeries(series[seriesUIDs[2]])\n",
    "mask = LabelMap(dicomSeries.GetOutput(), niiPath=NII_PATH)\n",
    "\n",
    "imageToVTKImageFilter = itk.ImageToVTKImageFilter[mask.type].New()\n",
    "imageToVTKImageFilter.SetInput(mask.GetOutput())\n",
    "\n",
    "imageToVTKImageFilter.Update()"
   ]
  },
  {
   "cell_type": "code",
   "execution_count": 4,
   "metadata": {},
   "outputs": [
    {
     "name": "stdout",
     "output_type": "stream",
     "text": [
      "0 22\n"
     ]
    }
   ],
   "source": [
    "imageViewer = vtk.vtkImageViewer2()\n",
    "imageViewer.SetInputData(imageToVTKImageFilter.GetOutput())\n",
    "\n",
    "renderWindow = imageViewer.GetRenderWindow()\n",
    "interactor = vtk.vtkRenderWindowInteractor()\n",
    "sliceInteractorStyle = SliceViewInteractorStyle(imageViewer=imageViewer)\n",
    "interactor.SetInteractorStyle(sliceInteractorStyle)\n",
    "interactor.SetRenderWindow(renderWindow)\n",
    "\n",
    "renderWindow.Render()\n",
    "interactor.Initialize()\n",
    "interactor.Start()"
   ]
  },
  {
   "cell_type": "code",
   "execution_count": null,
   "metadata": {},
   "outputs": [],
   "source": [
    "data = itk.GetArrayFromImage(mask.GetOutput())\n",
    "data.sum()"
   ]
  },
  {
   "cell_type": "code",
   "execution_count": null,
   "metadata": {},
   "outputs": [],
   "source": [
    "# mask.resampleImageFilter.Update()\n",
    "data = itk.GetArrayFromImage(mask.GetOutput())\n",
    "plt.imshow(data[7])"
   ]
  },
  {
   "cell_type": "code",
   "execution_count": null,
   "metadata": {
    "collapsed": true
   },
   "outputs": [],
   "source": []
  }
 ],
 "metadata": {
  "kernelspec": {
   "display_name": "Python 3",
   "language": "python",
   "name": "python3"
  },
  "language_info": {
   "codemirror_mode": {
    "name": "ipython",
    "version": 3
   },
   "file_extension": ".py",
   "mimetype": "text/x-python",
   "name": "python",
   "nbconvert_exporter": "python",
   "pygments_lexer": "ipython3",
   "version": "3.6.3"
  }
 },
 "nbformat": 4,
 "nbformat_minor": 2
}
