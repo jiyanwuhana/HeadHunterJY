{
 "cells": [
  {
   "cell_type": "code",
   "execution_count": 9,
   "metadata": {
    "collapsed": true
   },
   "outputs": [],
   "source": [
    "import itk\n",
    "import vtk\n",
    "import numpy as np\n",
    "import matplotlib.pyplot as plt\n",
    "%matplotlib inline\n",
    "\n",
    "IF3         = itk.Image[itk.F, 3]\n",
    "IUC3        = itk.Image[itk.UC, 3]\n",
    "IRGBUC3     = itk.Image[itk.RGBPixel[itk.UC], 3]\n",
    "LMLOUL3     = itk.LabelMap[itk.StatisticsLabelObject[itk.UL, 3]]\n",
    "\n",
    "class DicomSeries():\n",
    "  \n",
    "  def __init__(self, fileNames):\n",
    "    self.fileNames = fileNames\n",
    "    self.type = IUC3\n",
    "    self.generatePipeline(fileNames)\n",
    "\n",
    "  def generatePipeline(self, fileNames):\n",
    "    # itk.ImageFileReader -> itk.ImageSeriesReader -> \n",
    "    # RescaleIntensityImageFilter -> CastImageFilter -> \n",
    "    # itk.ImageToVTKImageFilter -> vtkImageViewer2\n",
    "    imageSeriesReader = itk.ImageSeriesReader[IF3].New()\n",
    "    imageSeriesReader.SetFileNames(fileNames)\n",
    "    rescaler = itk.RescaleIntensityImageFilter[IF3, IF3].New()\n",
    "    rescaler.SetInput(imageSeriesReader.GetOutput())\n",
    "    rescaler.SetOutputMaximum(255)\n",
    "    rescaler.SetOutputMinimum(0)\n",
    "    self.caster = itk.CastImageFilter[IF3, IUC3].New()\n",
    "    self.caster.SetInput(rescaler.GetOutput())\n",
    "\n",
    "  def GetOutput(self):\n",
    "    return self.caster.GetOutput()"
   ]
  },
  {
   "cell_type": "code",
   "execution_count": 10,
   "metadata": {
    "collapsed": true
   },
   "outputs": [],
   "source": [
    "NII_PATH = \"/Users/benjaminhon/Developer/HeadHunter/notebooks/220259.nii\"\n",
    "DICOM_PATH = \"/Users/benjaminhon/Developer/HeadHunter/notebooks/220259\"\n",
    "\n",
    "def generateSeries(path):\n",
    "    generator = itk.GDCMSeriesFileNames.New()\n",
    "    generator.SetDirectory(path)\n",
    "    seriesUIDs = generator.GetSeriesUIDs()\n",
    "    series = { uid: generator.GetFileNames(uid) for uid in generator.GetSeriesUIDs() }\n",
    "    return (series, seriesUIDs)"
   ]
  },
  {
   "cell_type": "code",
   "execution_count": 11,
   "metadata": {
    "collapsed": true
   },
   "outputs": [],
   "source": [
    "(series, seriesUIDs) = generateSeries(DICOM_PATH)\n",
    "dicomSeries = DicomSeries(series[seriesUIDs[2]])"
   ]
  },
  {
   "cell_type": "code",
   "execution_count": 12,
   "metadata": {},
   "outputs": [
    {
     "data": {
      "text/plain": [
       "array([], shape=(0, 0, 0), dtype=uint8)"
      ]
     },
     "execution_count": 12,
     "metadata": {},
     "output_type": "execute_result"
    }
   ],
   "source": [
    "itk.GetArrayFromImage(dicomSeries.GetOutput())"
   ]
  },
  {
   "cell_type": "code",
   "execution_count": null,
   "metadata": {
    "collapsed": true
   },
   "outputs": [],
   "source": []
  }
 ],
 "metadata": {
  "kernelspec": {
   "display_name": "Python 3",
   "language": "python",
   "name": "python3"
  },
  "language_info": {
   "codemirror_mode": {
    "name": "ipython",
    "version": 3
   },
   "file_extension": ".py",
   "mimetype": "text/x-python",
   "name": "python",
   "nbconvert_exporter": "python",
   "pygments_lexer": "ipython3",
   "version": "3.6.3"
  }
 },
 "nbformat": 4,
 "nbformat_minor": 2
}
