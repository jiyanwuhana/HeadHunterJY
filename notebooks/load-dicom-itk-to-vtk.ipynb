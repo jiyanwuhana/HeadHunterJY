{
 "cells": [
  {
   "cell_type": "code",
   "execution_count": 8,
   "metadata": {
    "collapsed": true
   },
   "outputs": [],
   "source": [
    "import os\n",
    "import itk\n",
    "import vtk\n",
    "from vtk import vtkCommand\n",
    "import numpy as np\n",
    "import matplotlib.pyplot as plt"
   ]
  },
  {
   "cell_type": "code",
   "execution_count": 9,
   "metadata": {
    "collapsed": true
   },
   "outputs": [],
   "source": [
    "# DICOM_PATH = \"./001321140\"\n",
    "DICOM_PATH = \"/Users/benjaminhon/Developer/data/bpynz/M489106/001321140\""
   ]
  },
  {
   "cell_type": "markdown",
   "metadata": {},
   "source": [
    "# Read DICOM to Image"
   ]
  },
  {
   "cell_type": "code",
   "execution_count": 3,
   "metadata": {
    "collapsed": true
   },
   "outputs": [],
   "source": [
    "# image type pixel type, dimensions\n",
    "inputImageType = itk.Image[itk.F, 3]\n",
    "reader = itk.ImageSeriesReader[inputImageType].New()\n",
    "# generate dicom series file names\n",
    "generator = itk.GDCMSeriesFileNames.New()\n",
    "generator.SetDirectory(DICOM_PATH)\n",
    "seriesUIDs = generator.GetSeriesUIDs()\n",
    "series = { uid: generator.GetFileNames(uid) for uid in generator.GetSeriesUIDs() }\n",
    "# itk series reader, select a series of file names\n",
    "reader.SetFileNames(series[seriesUIDs[3]])"
   ]
  },
  {
   "cell_type": "markdown",
   "metadata": {},
   "source": [
    "# ITK to VTK"
   ]
  },
  {
   "cell_type": "code",
   "execution_count": 4,
   "metadata": {},
   "outputs": [
    {
     "name": "stdout",
     "output_type": "stream",
     "text": [
      "Dimensions:  (512, 512, 23)\n",
      "Spacing:  (0.4688, 0.4688, 5.999993801116943)\n",
      "Origin:  (-124.09700012207031, -140.11900329589844, -35.92409896850586)\n"
     ]
    }
   ],
   "source": [
    "# output image is UC\n",
    "outputImageType = itk.Image[itk.UC, 3]\n",
    "\n",
    "# itk series reader \n",
    "# -> RescaleIntensityImageFilter \n",
    "# -> CastImageFilter \n",
    "# -> ImageToVTKImageFilter \n",
    "# -> vtk image\n",
    "rescaler = itk.RescaleIntensityImageFilter[inputImageType, inputImageType].New()\n",
    "rescaler.SetInput(reader.GetOutput())\n",
    "rescaler.SetOutputMaximum(255)\n",
    "rescaler.SetOutputMinimum(0)\n",
    "\n",
    "caster = itk.CastImageFilter[inputImageType, outputImageType].New()\n",
    "caster.SetInput(rescaler.GetOutput())\n",
    "\n",
    "itkToVtkConverter = itk.ImageToVTKImageFilter[outputImageType].New()\n",
    "itkToVtkConverter.SetInput(caster.GetOutput())\n",
    "itkToVtkConverter.Update()\n",
    "\n",
    "imageData = itkToVtkConverter.GetOutput()\n",
    "print('Dimensions: ', imageData.GetDimensions())\n",
    "print('Spacing: ', imageData.GetSpacing())\n",
    "print('Origin: ', imageData.GetOrigin())"
   ]
  },
  {
   "cell_type": "markdown",
   "metadata": {},
   "source": [
    "# Custom Interactor Style"
   ]
  },
  {
   "cell_type": "code",
   "execution_count": 5,
   "metadata": {
    "collapsed": true
   },
   "outputs": [],
   "source": [
    "class SliceViewInteractorStyle(vtk.vtkInteractorStyleUser):\n",
    "    def __init__(self, parent=None, imageViewer=None):\n",
    "        self.AddObserver(vtkCommand.MouseWheelForwardEvent, self.mouseWheelForwardEvent)        \n",
    "        self.AddObserver(vtkCommand.MouseWheelBackwardEvent, self.mouseWheelBackwardEvent)\n",
    "        if imageViewer:\n",
    "            self.imageViewer = imageViewer\n",
    "            self.minSlice = imageViewer.GetSliceMin()\n",
    "            self.maxSlice = imageViewer.GetSliceMax()\n",
    "            self.slice = round((self.minSlice + self.maxSlice) / 2)\n",
    "        \n",
    "    def nextSlice(self):\n",
    "        if self.imageViewer and self.slice < self.maxSlice:\n",
    "            self.slice = self.slice + 1\n",
    "            self.imageViewer.SetSlice(self.slice)\n",
    "\n",
    "    def previousSlice(self):\n",
    "        if self.imageViewer and self.slice > self.minSlice:\n",
    "            self.slice = self.slice - 1\n",
    "            self.imageViewer.SetSlice(self.slice)\n",
    "    \n",
    "    def mouseWheelForwardEvent(self, obj, event):\n",
    "        self.nextSlice()\n",
    "        return\n",
    "    \n",
    "    def mouseWheelBackwardEvent(self, obj, event):\n",
    "        self.previousSlice()\n",
    "        return"
   ]
  },
  {
   "cell_type": "markdown",
   "metadata": {},
   "source": [
    "# Display VTK\n",
    "\n",
    "Using itk python bindings seem to have issues and produce a noisy image"
   ]
  },
  {
   "cell_type": "code",
   "execution_count": 7,
   "metadata": {
    "collapsed": true
   },
   "outputs": [],
   "source": [
    "imageViewer = vtk.vtkImageViewer2()\n",
    "imageViewer.SetInputData(imageData)\n",
    "renderer = imageViewer.GetRenderer()\n",
    "\n",
    "renderer.SetViewport((0,0,0.5,0.5))\n",
    "\n",
    "renderer.GetActiveCamera().SetViewUp(0,-1,0) # itk origin is topleft, vtk origin is bottom left\n",
    "renderer.ResetCamera()\n",
    "renderWindow = imageViewer.GetRenderWindow() # Image viewer has its own render window !!!\n",
    "\n",
    "interactor = vtk.vtkRenderWindowInteractor()\n",
    "sliceInteractorStyle = SliceViewInteractorStyle(imageViewer=imageViewer)\n",
    "interactor.SetInteractorStyle(sliceInteractorStyle)\n",
    "interactor.SetRenderWindow(renderWindow)\n",
    "\n",
    "renderWindow.SetSize(1000,1000)\n",
    "renderWindow.Render()\n",
    "interactor.Initialize()\n",
    "interactor.Start()"
   ]
  },
  {
   "cell_type": "code",
   "execution_count": null,
   "metadata": {
    "collapsed": true
   },
   "outputs": [],
   "source": []
  },
  {
   "cell_type": "code",
   "execution_count": null,
   "metadata": {
    "collapsed": true
   },
   "outputs": [],
   "source": []
  }
 ],
 "metadata": {
  "kernelspec": {
   "display_name": "Python 3",
   "language": "python",
   "name": "python3"
  },
  "language_info": {
   "codemirror_mode": {
    "name": "ipython",
    "version": 3
   },
   "file_extension": ".py",
   "mimetype": "text/x-python",
   "name": "python",
   "nbconvert_exporter": "python",
   "pygments_lexer": "ipython3",
   "version": "3.6.2"
  }
 },
 "nbformat": 4,
 "nbformat_minor": 2
}
