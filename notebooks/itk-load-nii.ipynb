{
 "cells": [
  {
   "cell_type": "code",
   "execution_count": 11,
   "metadata": {
    "collapsed": true
   },
   "outputs": [],
   "source": [
    "import os\n",
    "import itk\n",
    "import vtk\n",
    "from vtk import vtkCommand\n",
    "import numpy as np\n",
    "import matplotlib.pyplot as plt\n",
    "%matplotlib inline"
   ]
  },
  {
   "cell_type": "code",
   "execution_count": 12,
   "metadata": {
    "collapsed": true
   },
   "outputs": [],
   "source": [
    "DICOM_PATH = \"/Users/benjaminhon/Developer/HeadHunter/notebooks/220259\"\n",
    "NII_PATH = \"/Users/benjaminhon/Developer/HeadHunter/notebooks/220259.nii\"\n",
    "SLICE = 7"
   ]
  },
  {
   "cell_type": "markdown",
   "metadata": {},
   "source": [
    "# ITK Types"
   ]
  },
  {
   "cell_type": "code",
   "execution_count": 13,
   "metadata": {
    "collapsed": true
   },
   "outputs": [],
   "source": [
    "IF3 = itk.Image[itk.F, 3]\n",
    "IUC3 = itk.Image[itk.UC, 3]\n",
    "IRGBUC3 = itk.Image[itk.RGBPixel[itk.UC], 3]\n",
    "LMLOUL3 = itk.LabelMap[itk.StatisticsLabelObject[itk.UL, 3]]"
   ]
  },
  {
   "cell_type": "markdown",
   "metadata": {},
   "source": [
    "# DICOM Pipeline"
   ]
  },
  {
   "cell_type": "code",
   "execution_count": 14,
   "metadata": {
    "collapsed": true
   },
   "outputs": [],
   "source": [
    "# generate dicom series file names\n",
    "generator = itk.GDCMSeriesFileNames.New()\n",
    "generator.SetDirectory(DICOM_PATH)\n",
    "seriesUIDs = generator.GetSeriesUIDs()\n",
    "series = { uid: generator.GetFileNames(uid) for uid in generator.GetSeriesUIDs() }\n",
    "\n",
    "# imageSeriesReader\n",
    "imageSeriesReader = itk.ImageSeriesReader[IF3].New()\n",
    "imageSeriesReader.SetFileNames(series[seriesUIDs[2]])\n",
    "imageSeriesReader.Update()\n",
    "\n",
    "rescaleIntensityImageFilter = itk.RescaleIntensityImageFilter[IF3, IF3].New()\n",
    "rescaleIntensityImageFilter.SetInput(imageSeriesReader.GetOutput())\n",
    "rescaleIntensityImageFilter.SetOutputMaximum(255)\n",
    "rescaleIntensityImageFilter.SetOutputMinimum(0)\n",
    "\n",
    "castImageFilter = itk.CastImageFilter[IF3, IUC3].New()\n",
    "castImageFilter.SetInput(rescaleIntensityImageFilter.GetOutput())"
   ]
  },
  {
   "cell_type": "markdown",
   "metadata": {},
   "source": [
    "# NII Pipeline"
   ]
  },
  {
   "cell_type": "code",
   "execution_count": 15,
   "metadata": {
    "collapsed": true
   },
   "outputs": [],
   "source": [
    "niiFileReader = itk.ImageFileReader[IUC3].New()\n",
    "niiFileReader.SetFileName(NII_PATH)\n",
    "niiFileReader.Update()\n",
    "\n",
    "# Resample Labels to match DICOM\n",
    "resampleImageFilter = itk.ResampleImageFilter[IUC3, IUC3].New()\n",
    "resampleImageFilter.SetInput(niiFileReader.GetOutput())\n",
    "resampleImageFilter.SetTransform(itk.IdentityTransform[itk.D, 3].New())\n",
    "resampleImageFilter.SetInterpolator(itk.NearestNeighborInterpolateImageFunction[IUC3, itk.D].New())\n",
    "resampleImageFilter.UseReferenceImageOn()\n",
    "resampleImageFilter.SetReferenceImage(imageSeriesReader.GetOutput())\n",
    "# resampleImageFilter.Update()\n",
    "# resampleData = resampleImageFilter.GetOutput()\n",
    "\n",
    "labelImageToLabelMapFilter = itk.LabelImageToLabelMapFilter[IUC3, LMLOUL3].New()\n",
    "labelImageToLabelMapFilter.SetInput(resampleImageFilter.GetOutput())"
   ]
  },
  {
   "cell_type": "markdown",
   "metadata": {},
   "source": [
    "# Check Physical Space"
   ]
  },
  {
   "cell_type": "code",
   "execution_count": 16,
   "metadata": {},
   "outputs": [],
   "source": [
    "# labelData = labelImageToLabelMapFilter.GetOutput()\n",
    "# imageData = castImageFilter.GetOutput()\n",
    "# print('label spacing', labelData.GetSpacing())\n",
    "# print('label origin', labelData.GetOrigin())\n",
    "# print('image spacing', imageData.GetSpacing())\n",
    "# print('image spacing', imageData.GetOrigin())\n",
    "\n",
    "# labelData.SetOrigin(labelData.GetOrigin())\n",
    "# labelData.SetSpacing(labelData.GetSpacing())"
   ]
  },
  {
   "cell_type": "markdown",
   "metadata": {},
   "source": [
    "# Merge DICOM and NII Pipeline"
   ]
  },
  {
   "cell_type": "code",
   "execution_count": 17,
   "metadata": {
    "collapsed": true
   },
   "outputs": [],
   "source": [
    "labelMapOverlayImageFilter = itk.LabelMapOverlayImageFilter[LMLOUL3, IUC3, IRGBUC3].New()\n",
    "labelMapOverlayImageFilter.SetInput(labelImageToLabelMapFilter.GetOutput())\n",
    "labelMapOverlayImageFilter.SetFeatureImage(castImageFilter.GetOutput())\n",
    "labelMapOverlayImageFilter.SetOpacity( 0.5 );"
   ]
  },
  {
   "cell_type": "markdown",
   "metadata": {},
   "source": [
    "# ITK to VTK"
   ]
  },
  {
   "cell_type": "code",
   "execution_count": 18,
   "metadata": {
    "collapsed": true
   },
   "outputs": [],
   "source": [
    "imageToVTKImageFilter = itk.ImageToVTKImageFilter[IRGBUC3].New()\n",
    "imageToVTKImageFilter.SetInput(labelMapOverlayImageFilter.GetOutput())\n",
    "imageToVTKImageFilter.Update()"
   ]
  },
  {
   "cell_type": "code",
   "execution_count": 19,
   "metadata": {},
   "outputs": [
    {
     "name": "stdout",
     "output_type": "stream",
     "text": [
      "0 22\n"
     ]
    }
   ],
   "source": [
    "class SliceViewInteractorStyle(vtk.vtkInteractorStyleUser):\n",
    "    def __init__(self, parent=None, imageViewer=None):\n",
    "        self.AddObserver(vtkCommand.MouseWheelForwardEvent, self.mouseWheelForwardEvent)        \n",
    "        self.AddObserver(vtkCommand.MouseWheelBackwardEvent, self.mouseWheelBackwardEvent)\n",
    "        if imageViewer:\n",
    "            self.imageViewer = imageViewer\n",
    "            self.minSlice = imageViewer.GetSliceMin()\n",
    "            self.maxSlice = imageViewer.GetSliceMax()\n",
    "            self.slice = round((self.minSlice + self.maxSlice) / 2)\n",
    "            print(self.minSlice, self.maxSlice)\n",
    "        \n",
    "    def nextSlice(self):\n",
    "        if self.imageViewer and self.slice < self.maxSlice:\n",
    "            self.slice = self.slice + 1\n",
    "            self.imageViewer.SetSlice(self.slice)\n",
    "\n",
    "    def previousSlice(self):\n",
    "        if self.imageViewer and self.slice > self.minSlice:\n",
    "            self.slice = self.slice - 1\n",
    "            self.imageViewer.SetSlice(self.slice)\n",
    "    \n",
    "    def mouseWheelForwardEvent(self, obj, event):\n",
    "        self.nextSlice()\n",
    "        return\n",
    "    \n",
    "    def mouseWheelBackwardEvent(self, obj, event):\n",
    "        self.previousSlice()\n",
    "        return\n",
    "\n",
    "imageViewer = vtk.vtkImageViewer2()\n",
    "imageViewer.SetInputData(imageToVTKImageFilter.GetOutput())\n",
    "\n",
    "renderWindow = imageViewer.GetRenderWindow()\n",
    "interactor = vtk.vtkRenderWindowInteractor()\n",
    "sliceInteractorStyle = SliceViewInteractorStyle(imageViewer=imageViewer)\n",
    "interactor.SetInteractorStyle(sliceInteractorStyle)\n",
    "interactor.SetRenderWindow(renderWindow)\n",
    "\n",
    "renderWindow.Render()\n",
    "interactor.Initialize()\n",
    "interactor.Start()"
   ]
  },
  {
   "cell_type": "code",
   "execution_count": 10,
   "metadata": {},
   "outputs": [
    {
     "ename": "NameError",
     "evalue": "name 'labelData' is not defined",
     "output_type": "error",
     "traceback": [
      "\u001b[0;31m---------------------------------------------------------------------------\u001b[0m",
      "\u001b[0;31mNameError\u001b[0m                                 Traceback (most recent call last)",
      "\u001b[0;32m<ipython-input-10-0ed5452fc3b4>\u001b[0m in \u001b[0;36m<module>\u001b[0;34m()\u001b[0m\n\u001b[1;32m      2\u001b[0m \u001b[0;31m# labelData = labelImageToLabelMapFilter.GetOutput()\u001b[0m\u001b[0;34m\u001b[0m\u001b[0;34m\u001b[0m\u001b[0m\n\u001b[1;32m      3\u001b[0m \u001b[0;31m# imageData = castImageFilter.GetOutput()\u001b[0m\u001b[0;34m\u001b[0m\u001b[0;34m\u001b[0m\u001b[0m\n\u001b[0;32m----> 4\u001b[0;31m \u001b[0mprint\u001b[0m\u001b[0;34m(\u001b[0m\u001b[0;34m'label spacing'\u001b[0m\u001b[0;34m,\u001b[0m \u001b[0mlabelData\u001b[0m\u001b[0;34m.\u001b[0m\u001b[0mGetSpacing\u001b[0m\u001b[0;34m(\u001b[0m\u001b[0;34m)\u001b[0m\u001b[0;34m)\u001b[0m\u001b[0;34m\u001b[0m\u001b[0m\n\u001b[0m\u001b[1;32m      5\u001b[0m \u001b[0mprint\u001b[0m\u001b[0;34m(\u001b[0m\u001b[0;34m'label origin'\u001b[0m\u001b[0;34m,\u001b[0m \u001b[0mlabelData\u001b[0m\u001b[0;34m.\u001b[0m\u001b[0mGetOrigin\u001b[0m\u001b[0;34m(\u001b[0m\u001b[0;34m)\u001b[0m\u001b[0;34m)\u001b[0m\u001b[0;34m\u001b[0m\u001b[0m\n\u001b[1;32m      6\u001b[0m \u001b[0mprint\u001b[0m\u001b[0;34m(\u001b[0m\u001b[0;34m'image spacing'\u001b[0m\u001b[0;34m,\u001b[0m \u001b[0mimageData\u001b[0m\u001b[0;34m.\u001b[0m\u001b[0mGetSpacing\u001b[0m\u001b[0;34m(\u001b[0m\u001b[0;34m)\u001b[0m\u001b[0;34m)\u001b[0m\u001b[0;34m\u001b[0m\u001b[0m\n",
      "\u001b[0;31mNameError\u001b[0m: name 'labelData' is not defined"
     ]
    }
   ],
   "source": [
    "# itk.GetArrayFromImage(labelMapOverlayImageFilter.GetOutput())\n",
    "# labelData = labelImageToLabelMapFilter.GetOutput()\n",
    "# imageData = castImageFilter.GetOutput()\n",
    "print('label spacing', labelData.GetSpacing())\n",
    "print('label origin', labelData.GetOrigin())\n",
    "print('image spacing', imageData.GetSpacing())\n",
    "print('image spacing', imageData.GetOrigin())"
   ]
  },
  {
   "cell_type": "code",
   "execution_count": null,
   "metadata": {
    "collapsed": true
   },
   "outputs": [],
   "source": [
    "vtk.vtkRenderer.Render"
   ]
  }
 ],
 "metadata": {
  "kernelspec": {
   "display_name": "Python 3",
   "language": "python",
   "name": "python3"
  },
  "language_info": {
   "codemirror_mode": {
    "name": "ipython",
    "version": 3
   },
   "file_extension": ".py",
   "mimetype": "text/x-python",
   "name": "python",
   "nbconvert_exporter": "python",
   "pygments_lexer": "ipython3",
   "version": "3.6.2"
  }
 },
 "nbformat": 4,
 "nbformat_minor": 2
}
