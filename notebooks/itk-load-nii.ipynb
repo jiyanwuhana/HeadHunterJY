{
 "cells": [
  {
   "cell_type": "code",
   "execution_count": 1,
   "metadata": {
    "collapsed": true
   },
   "outputs": [],
   "source": [
    "import os\n",
    "import itk\n",
    "import vtk\n",
    "from vtk import vtkCommand\n",
    "import numpy as np\n",
    "import matplotlib.pyplot as plt\n",
    "%matplotlib inline"
   ]
  },
  {
   "cell_type": "code",
   "execution_count": 2,
   "metadata": {
    "collapsed": true
   },
   "outputs": [],
   "source": [
    "DICOM_PATH = \"/Users/benjaminhon/Developer/HeadHunter/notebooks/220259\"\n",
    "NII_PATH = \"/Users/benjaminhon/Developer/HeadHunter/notebooks/220259.nii\"\n",
    "SLICE = 7"
   ]
  },
  {
   "cell_type": "markdown",
   "metadata": {},
   "source": [
    "# ITK Types"
   ]
  },
  {
   "cell_type": "code",
   "execution_count": 3,
   "metadata": {
    "collapsed": true
   },
   "outputs": [],
   "source": [
    "IF3 = itk.Image[itk.F, 3]\n",
    "IUC3 = itk.Image[itk.UC, 3]\n",
    "IRGBUC3 = itk.Image[itk.RGBPixel[itk.UC], 3]\n",
    "LMLOUL3 = itk.LabelMap[itk.StatisticsLabelObject[itk.UL, 3]]"
   ]
  },
  {
   "cell_type": "markdown",
   "metadata": {},
   "source": [
    "# DICOM Pipeline"
   ]
  },
  {
   "cell_type": "code",
   "execution_count": 4,
   "metadata": {
    "collapsed": true
   },
   "outputs": [],
   "source": [
    "# generate dicom series file names\n",
    "generator = itk.GDCMSeriesFileNames.New()\n",
    "generator.SetDirectory(DICOM_PATH)\n",
    "seriesUIDs = generator.GetSeriesUIDs()\n",
    "series = { uid: generator.GetFileNames(uid) for uid in generator.GetSeriesUIDs() }\n",
    "\n",
    "# imageSeriesReader\n",
    "imageSeriesReader = itk.ImageSeriesReader[IF3].New()\n",
    "imageSeriesReader.SetFileNames(series[seriesUIDs[2]])\n",
    "imageSeriesReader.Update()\n",
    "\n",
    "rescaleIntensityImageFilter = itk.RescaleIntensityImageFilter[IF3, IF3].New()\n",
    "rescaleIntensityImageFilter.SetInput(imageSeriesReader.GetOutput())\n",
    "rescaleIntensityImageFilter.SetOutputMaximum(255)\n",
    "rescaleIntensityImageFilter.SetOutputMinimum(0)\n",
    "\n",
    "castImageFilter = itk.CastImageFilter[IF3, IUC3].New()\n",
    "castImageFilter.SetInput(rescaleIntensityImageFilter.GetOutput())"
   ]
  },
  {
   "cell_type": "markdown",
   "metadata": {},
   "source": [
    "# NII Pipeline"
   ]
  },
  {
   "cell_type": "code",
   "execution_count": null,
   "metadata": {
    "collapsed": true
   },
   "outputs": [],
   "source": [
    "niiFileReader = itk.ImageFileReader[IUC3].New()\n",
    "niiFileReader.SetFileName(NII_PATH)\n",
    "niiFileReader.Update()\n",
    "\n",
    "# Resample Labels to match DICOM\n",
    "resampleImageFilter = itk.ResampleImageFilter[IUC3, IUC3].New()\n",
    "resampleImageFilter.SetInput(niiFileReader.GetOutput())\n",
    "resampleImageFilter.SetTransform(itk.IdentityTransform[itk.D, 3].New())\n",
    "resampleImageFilter.SetInterpolator(itk.NearestNeighborInterpolateImageFunction[IUC3, itk.D].New())\n",
    "resampleImageFilter.UseReferenceImageOn()\n",
    "resampleImageFilter.SetReferenceImage(imageSeriesReader.GetOutput())\n",
    "# resampleImageFilter.Update()\n",
    "# resampleData = resampleImageFilter.GetOutput()\n",
    "\n",
    "labelImageToLabelMapFilter = itk.LabelImageToLabelMapFilter[IUC3, LMLOUL3].New()\n",
    "labelImageToLabelMapFilter.SetInput(resampleImageFilter.GetOutput())"
   ]
  },
  {
   "cell_type": "markdown",
   "metadata": {},
   "source": [
    "# Check Physical Space"
   ]
  },
  {
   "cell_type": "code",
   "execution_count": null,
   "metadata": {
    "collapsed": true
   },
   "outputs": [],
   "source": [
    "# labelData = labelImageToLabelMapFilter.GetOutput()\n",
    "# imageData = castImageFilter.GetOutput()\n",
    "# print('label spacing', labelData.GetSpacing())\n",
    "# print('label origin', labelData.GetOrigin())\n",
    "# print('image spacing', imageData.GetSpacing())\n",
    "# print('image spacing', imageData.GetOrigin())\n",
    "# labelData.SetOrigin(labelData.GetOrigin())\n",
    "# labelData.SetSpacing(labelData.GetSpacing())"
   ]
  },
  {
   "cell_type": "markdown",
   "metadata": {},
   "source": [
    "# Merge DICOM and NII Pipeline"
   ]
  },
  {
   "cell_type": "code",
   "execution_count": null,
   "metadata": {
    "collapsed": true
   },
   "outputs": [],
   "source": [
    "labelMapOverlayImageFilter = itk.LabelMapOverlayImageFilter[LMLOUL3, IUC3, IRGBUC3].New()\n",
    "labelMapOverlayImageFilter.SetInput(labelImageToLabelMapFilter.GetOutput())\n",
    "labelMapOverlayImageFilter.SetFeatureImage(castImageFilter.GetOutput())\n",
    "labelMapOverlayImageFilter.SetOpacity( 0.5 );"
   ]
  },
  {
   "cell_type": "markdown",
   "metadata": {},
   "source": [
    "# ITK to VTK"
   ]
  },
  {
   "cell_type": "code",
   "execution_count": null,
   "metadata": {
    "collapsed": true
   },
   "outputs": [],
   "source": [
    "imageToVTKImageFilter = itk.ImageToVTKImageFilter[IRGBUC3].New()\n",
    "imageToVTKImageFilter.SetInput(labelMapOverlayImageFilter.GetOutput())\n",
    "imageToVTKImageFilter.Update()"
   ]
  },
  {
   "cell_type": "code",
   "execution_count": null,
   "metadata": {
    "collapsed": true
   },
   "outputs": [],
   "source": [
    "class SliceViewInteractorStyle(vtk.vtkInteractorStyleUser):\n",
    "    def __init__(self, parent=None, imageViewer=None):\n",
    "        self.AddObserver(vtkCommand.MouseWheelForwardEvent, self.mouseWheelForwardEvent)        \n",
    "        self.AddObserver(vtkCommand.MouseWheelBackwardEvent, self.mouseWheelBackwardEvent)\n",
    "        if imageViewer:\n",
    "            self.imageViewer = imageViewer\n",
    "            self.minSlice = imageViewer.GetSliceMin()\n",
    "            self.maxSlice = imageViewer.GetSliceMax()\n",
    "            self.slice = round((self.minSlice + self.maxSlice) / 2)\n",
    "            print(self.minSlice, self.maxSlice)\n",
    "        \n",
    "    def nextSlice(self):\n",
    "        if self.imageViewer and self.slice < self.maxSlice:\n",
    "            self.slice = self.slice + 1\n",
    "            self.imageViewer.SetSlice(self.slice)\n",
    "\n",
    "    def previousSlice(self):\n",
    "        if self.imageViewer and self.slice > self.minSlice:\n",
    "            self.slice = self.slice - 1\n",
    "            self.imageViewer.SetSlice(self.slice)\n",
    "    \n",
    "    def mouseWheelForwardEvent(self, obj, event):\n",
    "        self.nextSlice()\n",
    "        return\n",
    "    \n",
    "    def mouseWheelBackwardEvent(self, obj, event):\n",
    "        self.previousSlice()\n",
    "        return\n",
    "\n",
    "imageViewer = vtk.vtkImageViewer2()\n",
    "imageViewer.SetInputData(imageToVTKImageFilter.GetOutput())\n",
    "\n",
    "renderWindow = imageViewer.GetRenderWindow()\n",
    "interactor = vtk.vtkRenderWindowInteractor()\n",
    "sliceInteractorStyle = SliceViewInteractorStyle(imageViewer=imageViewer)\n",
    "interactor.SetInteractorStyle(sliceInteractorStyle)\n",
    "interactor.SetRenderWindow(renderWindow)\n",
    "\n",
    "renderWindow.Render()\n",
    "interactor.Initialize()\n",
    "interactor.Start()"
   ]
  },
  {
   "cell_type": "code",
   "execution_count": null,
   "metadata": {
    "collapsed": true
   },
   "outputs": [],
   "source": [
    "# itk.GetArrayFromImage(labelMapOverlayImageFilter.GetOutput())\n",
    "# labelData = labelImageToLabelMapFilter.GetOutput()\n",
    "# imageData = castImageFilter.GetOutput()\n",
    "print('label spacing', labelData.GetSpacing())\n",
    "print('label origin', labelData.GetOrigin())\n",
    "print('image spacing', imageData.GetSpacing())\n",
    "print('image spacing', imageData.GetOrigin())"
   ]
  },
  {
   "cell_type": "code",
   "execution_count": 5,
   "metadata": {
    "collapsed": true
   },
   "outputs": [],
   "source": [
    "out = imageSeriesReader.GetOutput()"
   ]
  },
  {
   "cell_type": "code",
   "execution_count": 7,
   "metadata": {},
   "outputs": [],
   "source": [
    "d = imageSeriesReader.GetMetaDataDictionary()"
   ]
  },
  {
   "cell_type": "code",
   "execution_count": null,
   "metadata": {
    "collapsed": true
   },
   "outputs": [],
   "source": [
    "imageSeriesReader"
   ]
  }
 ],
 "metadata": {
  "kernelspec": {
   "display_name": "Python 3",
   "language": "python",
   "name": "python3"
  },
  "language_info": {
   "codemirror_mode": {
    "name": "ipython",
    "version": 3
   },
   "file_extension": ".py",
   "mimetype": "text/x-python",
   "name": "python",
   "nbconvert_exporter": "python",
   "pygments_lexer": "ipython3",
   "version": "3.6.3"
  }
 },
 "nbformat": 4,
 "nbformat_minor": 2
}
