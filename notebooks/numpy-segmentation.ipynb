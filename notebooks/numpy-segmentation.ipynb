{
 "cells": [
  {
   "cell_type": "code",
   "execution_count": 93,
   "metadata": {
    "collapsed": true
   },
   "outputs": [],
   "source": [
    "import os\n",
    "from glob import glob\n",
    "import itk\n",
    "import vtk\n",
    "from vtk import vtkCommand\n",
    "import numpy as np\n",
    "\n",
    "import matplotlib.pyplot as plt\n",
    "%matplotlib inline"
   ]
  },
  {
   "cell_type": "code",
   "execution_count": 94,
   "metadata": {
    "collapsed": true
   },
   "outputs": [],
   "source": [
    "DICOM_PATH = \"/Users/benjaminhon/Developer/HeadHunter/notebooks/220259\"\n",
    "NII_PATH = \"/Users/benjaminhon/Developer/HeadHunter/notebooks/220259.nii\"\n",
    "\n",
    "\n",
    "TUMOR_1 = glob(\"/Users/benjaminhon/Developer/HeadHunter/notebooks/masks/tumor1/*.png\")\n",
    "TUMOR_2 = glob(\"/Users/benjaminhon/Developer/HeadHunter/notebooks/masks/tumor2/*.png\")\n",
    "# SPECIMEN = glob(\"/Users/benjaminhon/Developer/HeadHunter/notebooks/specimen/*\")\n",
    "\n",
    "SPECIMEN = glob(\"/Users/benjaminhon/Developer/HeadHunter/winson_integration/testData/testData/*\")\n",
    "\n",
    "\n",
    "SLICE = 7\n",
    "BACKGROUND = 0.2"
   ]
  },
  {
   "cell_type": "markdown",
   "metadata": {},
   "source": [
    "# ITK Types"
   ]
  },
  {
   "cell_type": "code",
   "execution_count": 95,
   "metadata": {
    "collapsed": true
   },
   "outputs": [],
   "source": [
    "IF3 = itk.Image[itk.F, 3]\n",
    "IUC3 = itk.Image[itk.UC, 3]\n",
    "IRGBUC3 = itk.Image[itk.RGBPixel[itk.UC], 3]\n",
    "LMLOUL3 = itk.LabelMap[itk.StatisticsLabelObject[itk.UL, 3]]"
   ]
  },
  {
   "cell_type": "markdown",
   "metadata": {},
   "source": [
    "# Read NII and convert to numpy array"
   ]
  },
  {
   "cell_type": "code",
   "execution_count": 98,
   "metadata": {
    "collapsed": true
   },
   "outputs": [],
   "source": [
    "niiFileReader = itk.ImageSeriesReader[IF3].New()\n",
    "niiFileReader.SetFileNames(TUMOR_1)\n",
    "niiFileReader.Update()\n",
    "\n",
    "\n",
    "# tumor1Arr = itk.GetArrayFromImage(niiFileReader.GetOutput())\n",
    "\n",
    "\n",
    "tumor1Arr = np.load('/Users/benjaminhon/Developer/HeadHunter/mask1.npy')\n",
    "\n",
    "\n",
    "\n",
    "niiFileReader.SetFileNames(TUMOR_2)\n",
    "niiFileReader.Update()\n",
    "# tumor2Arr = itk.GetArrayFromImage(niiFileReader.GetOutput())\n",
    "\n",
    "tumor2Arr = np.load('/Users/benjaminhon/Developer/HeadHunter/mask2.npy')\n",
    "\n",
    "backgroundArr = np.full(tumor1Arr.shape, BACKGROUND)"
   ]
  },
  {
   "cell_type": "code",
   "execution_count": 99,
   "metadata": {},
   "outputs": [
    {
     "data": {
      "text/plain": [
       "<matplotlib.image.AxesImage at 0x12655b6a0>"
      ]
     },
     "execution_count": 99,
     "metadata": {},
     "output_type": "execute_result"
    },
    {
     "data": {
      "image/png": "[encoded data removed]",
      "text/plain": [
       "<matplotlib.figure.Figure at 0x12654e978>"
      ]
     },
     "metadata": {},
     "output_type": "display_data"
    }
   ],
   "source": [
    "plt.subplot(1, 2, 1)\n",
    "plt.imshow(tumor1Arr[SLICE])\n",
    "plt.subplot(1, 2, 2)\n",
    "plt.imshow(tumor2Arr[SLICE])"
   ]
  },
  {
   "cell_type": "markdown",
   "metadata": {},
   "source": [
    "# ArgMax"
   ]
  },
  {
   "cell_type": "code",
   "execution_count": 113,
   "metadata": {},
   "outputs": [
    {
     "data": {
      "text/plain": [
       "[array([[[ 0.2,  0.2,  0.2, ...,  0.2,  0.2,  0.2],\n",
       "         [ 0.2,  0.2,  0.2, ...,  0.2,  0.2,  0.2],\n",
       "         [ 0.2,  0.2,  0.2, ...,  0.2,  0.2,  0.2],\n",
       "         ..., \n",
       "         [ 0.2,  0.2,  0.2, ...,  0.2,  0.2,  0.2],\n",
       "         [ 0.2,  0.2,  0.2, ...,  0.2,  0.2,  0.2],\n",
       "         [ 0.2,  0.2,  0.2, ...,  0.2,  0.2,  0.2]],\n",
       " \n",
       "        [[ 0.2,  0.2,  0.2, ...,  0.2,  0.2,  0.2],\n",
       "         [ 0.2,  0.2,  0.2, ...,  0.2,  0.2,  0.2],\n",
       "         [ 0.2,  0.2,  0.2, ...,  0.2,  0.2,  0.2],\n",
       "         ..., \n",
       "         [ 0.2,  0.2,  0.2, ...,  0.2,  0.2,  0.2],\n",
       "         [ 0.2,  0.2,  0.2, ...,  0.2,  0.2,  0.2],\n",
       "         [ 0.2,  0.2,  0.2, ...,  0.2,  0.2,  0.2]],\n",
       " \n",
       "        [[ 0.2,  0.2,  0.2, ...,  0.2,  0.2,  0.2],\n",
       "         [ 0.2,  0.2,  0.2, ...,  0.2,  0.2,  0.2],\n",
       "         [ 0.2,  0.2,  0.2, ...,  0.2,  0.2,  0.2],\n",
       "         ..., \n",
       "         [ 0.2,  0.2,  0.2, ...,  0.2,  0.2,  0.2],\n",
       "         [ 0.2,  0.2,  0.2, ...,  0.2,  0.2,  0.2],\n",
       "         [ 0.2,  0.2,  0.2, ...,  0.2,  0.2,  0.2]],\n",
       " \n",
       "        ..., \n",
       "        [[ 0.2,  0.2,  0.2, ...,  0.2,  0.2,  0.2],\n",
       "         [ 0.2,  0.2,  0.2, ...,  0.2,  0.2,  0.2],\n",
       "         [ 0.2,  0.2,  0.2, ...,  0.2,  0.2,  0.2],\n",
       "         ..., \n",
       "         [ 0.2,  0.2,  0.2, ...,  0.2,  0.2,  0.2],\n",
       "         [ 0.2,  0.2,  0.2, ...,  0.2,  0.2,  0.2],\n",
       "         [ 0.2,  0.2,  0.2, ...,  0.2,  0.2,  0.2]],\n",
       " \n",
       "        [[ 0.2,  0.2,  0.2, ...,  0.2,  0.2,  0.2],\n",
       "         [ 0.2,  0.2,  0.2, ...,  0.2,  0.2,  0.2],\n",
       "         [ 0.2,  0.2,  0.2, ...,  0.2,  0.2,  0.2],\n",
       "         ..., \n",
       "         [ 0.2,  0.2,  0.2, ...,  0.2,  0.2,  0.2],\n",
       "         [ 0.2,  0.2,  0.2, ...,  0.2,  0.2,  0.2],\n",
       "         [ 0.2,  0.2,  0.2, ...,  0.2,  0.2,  0.2]],\n",
       " \n",
       "        [[ 0.2,  0.2,  0.2, ...,  0.2,  0.2,  0.2],\n",
       "         [ 0.2,  0.2,  0.2, ...,  0.2,  0.2,  0.2],\n",
       "         [ 0.2,  0.2,  0.2, ...,  0.2,  0.2,  0.2],\n",
       "         ..., \n",
       "         [ 0.2,  0.2,  0.2, ...,  0.2,  0.2,  0.2],\n",
       "         [ 0.2,  0.2,  0.2, ...,  0.2,  0.2,  0.2],\n",
       "         [ 0.2,  0.2,  0.2, ...,  0.2,  0.2,  0.2]]]),\n",
       " array([[[  5.30709965e-109,   1.03852131e-108,  -1.86324782e-108, ...,\n",
       "            1.02997015e-217,  -4.62601925e-218,   0.00000000e+000],\n",
       "         [  1.03852131e-108,   2.03223338e-108,  -3.64610180e-108, ...,\n",
       "            2.01550003e-217,  -9.05243896e-218,   8.05143596e-233],\n",
       "         [ -1.86324782e-108,  -3.64610180e-108,   6.54160022e-108, ...,\n",
       "           -3.61607991e-217,   1.62413010e-217,  -7.29661384e-233],\n",
       "         ..., \n",
       "         [ -8.12294212e-095,  -1.58954025e-094,   2.85185039e-094, ...,\n",
       "           -1.57645202e-203,   7.08049389e-204,  -3.00990014e-219],\n",
       "         [  3.64834713e-095,   7.13927850e-095,  -1.28088321e-094, ...,\n",
       "            7.08049389e-204,  -3.18014079e-204,  -6.41816941e-220],\n",
       "         [ -5.32244980e-110,  -6.65306225e-110,   1.13102058e-109, ...,\n",
       "            8.85264746e-221,   4.31566564e-220,   0.00000000e+000]],\n",
       " \n",
       "        [[  0.00000000e+000,   0.00000000e+000,   0.00000000e+000, ...,\n",
       "            0.00000000e+000,   0.00000000e+000,   0.00000000e+000],\n",
       "         [  0.00000000e+000,   0.00000000e+000,   0.00000000e+000, ...,\n",
       "            0.00000000e+000,   0.00000000e+000,   0.00000000e+000],\n",
       "         [  0.00000000e+000,   0.00000000e+000,   0.00000000e+000, ...,\n",
       "            0.00000000e+000,   0.00000000e+000,   0.00000000e+000],\n",
       "         ..., \n",
       "         [  0.00000000e+000,   0.00000000e+000,   0.00000000e+000, ...,\n",
       "            0.00000000e+000,   0.00000000e+000,   0.00000000e+000],\n",
       "         [  0.00000000e+000,   0.00000000e+000,   0.00000000e+000, ...,\n",
       "            0.00000000e+000,   0.00000000e+000,   0.00000000e+000],\n",
       "         [  0.00000000e+000,   0.00000000e+000,   0.00000000e+000, ...,\n",
       "            0.00000000e+000,   0.00000000e+000,   0.00000000e+000]],\n",
       " \n",
       "        [[  0.00000000e+000,   0.00000000e+000,   0.00000000e+000, ...,\n",
       "            0.00000000e+000,   0.00000000e+000,   0.00000000e+000],\n",
       "         [  0.00000000e+000,   0.00000000e+000,   0.00000000e+000, ...,\n",
       "            0.00000000e+000,   0.00000000e+000,   0.00000000e+000],\n",
       "         [  0.00000000e+000,   0.00000000e+000,   0.00000000e+000, ...,\n",
       "            0.00000000e+000,   0.00000000e+000,   0.00000000e+000],\n",
       "         ..., \n",
       "         [  0.00000000e+000,   0.00000000e+000,   0.00000000e+000, ...,\n",
       "            0.00000000e+000,   0.00000000e+000,   0.00000000e+000],\n",
       "         [  0.00000000e+000,   0.00000000e+000,   0.00000000e+000, ...,\n",
       "            0.00000000e+000,   0.00000000e+000,   0.00000000e+000],\n",
       "         [  0.00000000e+000,   0.00000000e+000,   0.00000000e+000, ...,\n",
       "            0.00000000e+000,   0.00000000e+000,   0.00000000e+000]],\n",
       " \n",
       "        ..., \n",
       "        [[  0.00000000e+000,   0.00000000e+000,   0.00000000e+000, ...,\n",
       "            0.00000000e+000,   0.00000000e+000,   0.00000000e+000],\n",
       "         [  0.00000000e+000,   0.00000000e+000,   0.00000000e+000, ...,\n",
       "            0.00000000e+000,   0.00000000e+000,   0.00000000e+000],\n",
       "         [  0.00000000e+000,   0.00000000e+000,   0.00000000e+000, ...,\n",
       "            0.00000000e+000,   0.00000000e+000,   0.00000000e+000],\n",
       "         ..., \n",
       "         [  0.00000000e+000,   0.00000000e+000,   0.00000000e+000, ...,\n",
       "            0.00000000e+000,   0.00000000e+000,   0.00000000e+000],\n",
       "         [  0.00000000e+000,   0.00000000e+000,   0.00000000e+000, ...,\n",
       "            0.00000000e+000,   0.00000000e+000,   0.00000000e+000],\n",
       "         [  0.00000000e+000,   0.00000000e+000,   0.00000000e+000, ...,\n",
       "            0.00000000e+000,   0.00000000e+000,   0.00000000e+000]],\n",
       " \n",
       "        [[  0.00000000e+000,   0.00000000e+000,   0.00000000e+000, ...,\n",
       "            0.00000000e+000,   0.00000000e+000,   0.00000000e+000],\n",
       "         [  0.00000000e+000,   0.00000000e+000,   0.00000000e+000, ...,\n",
       "            0.00000000e+000,   0.00000000e+000,   0.00000000e+000],\n",
       "         [  0.00000000e+000,   0.00000000e+000,   0.00000000e+000, ...,\n",
       "            0.00000000e+000,   0.00000000e+000,   0.00000000e+000],\n",
       "         ..., \n",
       "         [  0.00000000e+000,   0.00000000e+000,   0.00000000e+000, ...,\n",
       "            0.00000000e+000,   0.00000000e+000,   0.00000000e+000],\n",
       "         [  0.00000000e+000,   0.00000000e+000,   0.00000000e+000, ...,\n",
       "            0.00000000e+000,   0.00000000e+000,   0.00000000e+000],\n",
       "         [  0.00000000e+000,   0.00000000e+000,   0.00000000e+000, ...,\n",
       "            0.00000000e+000,   0.00000000e+000,   0.00000000e+000]],\n",
       " \n",
       "        [[  0.00000000e+000,   0.00000000e+000,   0.00000000e+000, ...,\n",
       "            0.00000000e+000,   0.00000000e+000,   0.00000000e+000],\n",
       "         [  0.00000000e+000,   0.00000000e+000,   0.00000000e+000, ...,\n",
       "            0.00000000e+000,   0.00000000e+000,   0.00000000e+000],\n",
       "         [  0.00000000e+000,   0.00000000e+000,   0.00000000e+000, ...,\n",
       "            0.00000000e+000,   0.00000000e+000,   0.00000000e+000],\n",
       "         ..., \n",
       "         [  0.00000000e+000,   0.00000000e+000,   0.00000000e+000, ...,\n",
       "            0.00000000e+000,   0.00000000e+000,   0.00000000e+000],\n",
       "         [  0.00000000e+000,   0.00000000e+000,   0.00000000e+000, ...,\n",
       "            0.00000000e+000,   0.00000000e+000,   0.00000000e+000],\n",
       "         [  0.00000000e+000,   0.00000000e+000,   0.00000000e+000, ...,\n",
       "            0.00000000e+000,   0.00000000e+000,   0.00000000e+000]]]),\n",
       " array([[[  0.00000000e+000,  -4.62601925e-218,   1.02997015e-217, ...,\n",
       "           -1.86324782e-108,   1.03852131e-108,   5.30709965e-109],\n",
       "         [  8.05143596e-233,  -9.05243896e-218,   2.01550003e-217, ...,\n",
       "           -3.64610180e-108,   2.03223338e-108,   1.03852131e-108],\n",
       "         [ -7.29661384e-233,   1.62413010e-217,  -3.61607991e-217, ...,\n",
       "            6.54160022e-108,  -3.64610180e-108,  -1.86324782e-108],\n",
       "         ..., \n",
       "         [ -3.00990014e-219,   7.08049389e-204,  -1.57645202e-203, ...,\n",
       "            2.85185039e-094,  -1.58954025e-094,  -8.12294212e-095],\n",
       "         [ -6.41816941e-220,  -3.18014079e-204,   7.08049389e-204, ...,\n",
       "           -1.28088321e-094,   7.13927850e-095,   3.64834713e-095],\n",
       "         [  0.00000000e+000,   4.31566564e-220,   8.85264746e-221, ...,\n",
       "            1.13102058e-109,  -6.65306225e-110,  -5.32244980e-110]],\n",
       " \n",
       "        [[  0.00000000e+000,   0.00000000e+000,   0.00000000e+000, ...,\n",
       "            0.00000000e+000,   0.00000000e+000,   0.00000000e+000],\n",
       "         [  0.00000000e+000,   0.00000000e+000,   0.00000000e+000, ...,\n",
       "            0.00000000e+000,   0.00000000e+000,   0.00000000e+000],\n",
       "         [  0.00000000e+000,   0.00000000e+000,   0.00000000e+000, ...,\n",
       "            0.00000000e+000,   0.00000000e+000,   0.00000000e+000],\n",
       "         ..., \n",
       "         [  0.00000000e+000,   0.00000000e+000,   0.00000000e+000, ...,\n",
       "            0.00000000e+000,   0.00000000e+000,   0.00000000e+000],\n",
       "         [  0.00000000e+000,   0.00000000e+000,   0.00000000e+000, ...,\n",
       "            0.00000000e+000,   0.00000000e+000,   0.00000000e+000],\n",
       "         [  0.00000000e+000,   0.00000000e+000,   0.00000000e+000, ...,\n",
       "            0.00000000e+000,   0.00000000e+000,   0.00000000e+000]],\n",
       " \n",
       "        [[  0.00000000e+000,   0.00000000e+000,   0.00000000e+000, ...,\n",
       "            0.00000000e+000,   0.00000000e+000,   0.00000000e+000],\n",
       "         [  0.00000000e+000,   0.00000000e+000,   0.00000000e+000, ...,\n",
       "            0.00000000e+000,   0.00000000e+000,   0.00000000e+000],\n",
       "         [  0.00000000e+000,   0.00000000e+000,   0.00000000e+000, ...,\n",
       "            0.00000000e+000,   0.00000000e+000,   0.00000000e+000],\n",
       "         ..., \n",
       "         [  0.00000000e+000,   0.00000000e+000,   0.00000000e+000, ...,\n",
       "            0.00000000e+000,   0.00000000e+000,   0.00000000e+000],\n",
       "         [  0.00000000e+000,   0.00000000e+000,   0.00000000e+000, ...,\n",
       "            0.00000000e+000,   0.00000000e+000,   0.00000000e+000],\n",
       "         [  0.00000000e+000,   0.00000000e+000,   0.00000000e+000, ...,\n",
       "            0.00000000e+000,   0.00000000e+000,   0.00000000e+000]],\n",
       " \n",
       "        ..., \n",
       "        [[  0.00000000e+000,   0.00000000e+000,   0.00000000e+000, ...,\n",
       "            0.00000000e+000,   0.00000000e+000,   0.00000000e+000],\n",
       "         [  0.00000000e+000,   0.00000000e+000,   0.00000000e+000, ...,\n",
       "            0.00000000e+000,   0.00000000e+000,   0.00000000e+000],\n",
       "         [  0.00000000e+000,   0.00000000e+000,   0.00000000e+000, ...,\n",
       "            0.00000000e+000,   0.00000000e+000,   0.00000000e+000],\n",
       "         ..., \n",
       "         [  0.00000000e+000,   0.00000000e+000,   0.00000000e+000, ...,\n",
       "            0.00000000e+000,   0.00000000e+000,   0.00000000e+000],\n",
       "         [  0.00000000e+000,   0.00000000e+000,   0.00000000e+000, ...,\n",
       "            0.00000000e+000,   0.00000000e+000,   0.00000000e+000],\n",
       "         [  0.00000000e+000,   0.00000000e+000,   0.00000000e+000, ...,\n",
       "            0.00000000e+000,   0.00000000e+000,   0.00000000e+000]],\n",
       " \n",
       "        [[  0.00000000e+000,   0.00000000e+000,   0.00000000e+000, ...,\n",
       "            0.00000000e+000,   0.00000000e+000,   0.00000000e+000],\n",
       "         [  0.00000000e+000,   0.00000000e+000,   0.00000000e+000, ...,\n",
       "            0.00000000e+000,   0.00000000e+000,   0.00000000e+000],\n",
       "         [  0.00000000e+000,   0.00000000e+000,   0.00000000e+000, ...,\n",
       "            0.00000000e+000,   0.00000000e+000,   0.00000000e+000],\n",
       "         ..., \n",
       "         [  0.00000000e+000,   0.00000000e+000,   0.00000000e+000, ...,\n",
       "            0.00000000e+000,   0.00000000e+000,   0.00000000e+000],\n",
       "         [  0.00000000e+000,   0.00000000e+000,   0.00000000e+000, ...,\n",
       "            0.00000000e+000,   0.00000000e+000,   0.00000000e+000],\n",
       "         [  0.00000000e+000,   0.00000000e+000,   0.00000000e+000, ...,\n",
       "            0.00000000e+000,   0.00000000e+000,   0.00000000e+000]],\n",
       " \n",
       "        [[  0.00000000e+000,   0.00000000e+000,   0.00000000e+000, ...,\n",
       "            0.00000000e+000,   0.00000000e+000,   0.00000000e+000],\n",
       "         [  0.00000000e+000,   0.00000000e+000,   0.00000000e+000, ...,\n",
       "            0.00000000e+000,   0.00000000e+000,   0.00000000e+000],\n",
       "         [  0.00000000e+000,   0.00000000e+000,   0.00000000e+000, ...,\n",
       "            0.00000000e+000,   0.00000000e+000,   0.00000000e+000],\n",
       "         ..., \n",
       "         [  0.00000000e+000,   0.00000000e+000,   0.00000000e+000, ...,\n",
       "            0.00000000e+000,   0.00000000e+000,   0.00000000e+000],\n",
       "         [  0.00000000e+000,   0.00000000e+000,   0.00000000e+000, ...,\n",
       "            0.00000000e+000,   0.00000000e+000,   0.00000000e+000],\n",
       "         [  0.00000000e+000,   0.00000000e+000,   0.00000000e+000, ...,\n",
       "            0.00000000e+000,   0.00000000e+000,   0.00000000e+000]]])]"
      ]
     },
     "execution_count": 113,
     "metadata": {},
     "output_type": "execute_result"
    }
   ],
   "source": [
    "argMax = np.argmax([backgroundArr, tumor1Arr, tumor2Arr], axis=0).astype(np.uint8)\n",
    "# plt.imshow(argMax[SLICE])\n",
    "# [backgroundArr, tumor1Arr, tumor2Arr]\n",
    "[backgroundArr] + [tumor1Arr, tumor2Arr]"
   ]
  },
  {
   "cell_type": "markdown",
   "metadata": {},
   "source": [
    "# To ITK Labels"
   ]
  },
  {
   "cell_type": "code",
   "execution_count": 102,
   "metadata": {
    "collapsed": true
   },
   "outputs": [],
   "source": [
    "segmentationImage = itk.GetImageFromArray(argMax)"
   ]
  },
  {
   "cell_type": "markdown",
   "metadata": {},
   "source": [
    "# Specimen DICOM"
   ]
  },
  {
   "cell_type": "code",
   "execution_count": 103,
   "metadata": {},
   "outputs": [],
   "source": [
    "def generateSeries(path):\n",
    "    generator = itk.GDCMSeriesFileNames.New()\n",
    "    generator.SetDirectory(path)\n",
    "    seriesUIDs = generator.GetSeriesUIDs()\n",
    "    series = { uid: generator.GetFileNames(uid) for uid in generator.GetSeriesUIDs() }\n",
    "    return (series, seriesUIDs)\n",
    "\n",
    "(series, seriesUIDs) = generateSeries(\"/Users/benjaminhon/Developer/HeadHunter/winson_integration/testData/testData\")\n",
    "                \n",
    "fnames = series['1.2.840.113619.2.353.2807.4234575.25845.14664695850031']\n",
    "\n",
    "\n",
    "imageSeriesReader = itk.ImageSeriesReader[IF3].New()\n",
    "imageSeriesReader.SetFileNames(fnames)\n",
    "imageSeriesReader.Update()\n",
    "\n",
    "rescaleIntensityImageFilter = itk.RescaleIntensityImageFilter[IF3, IF3].New()\n",
    "rescaleIntensityImageFilter.SetInput(imageSeriesReader.GetOutput())\n",
    "rescaleIntensityImageFilter.SetOutputMaximum(255)\n",
    "rescaleIntensityImageFilter.SetOutputMinimum(0)\n",
    "\n",
    "castImageFilter = itk.CastImageFilter[IF3, IUC3].New()\n",
    "castImageFilter.SetInput(rescaleIntensityImageFilter.GetOutput())\n",
    "castImageFilter.Update()"
   ]
  },
  {
   "cell_type": "markdown",
   "metadata": {},
   "source": [
    "# Resample labels to DICOM"
   ]
  },
  {
   "cell_type": "code",
   "execution_count": 104,
   "metadata": {
    "collapsed": true
   },
   "outputs": [],
   "source": [
    "# Set Reference Origin, Spacing, Direction\n",
    "changeInformationImageFilter = itk.ChangeInformationImageFilter[IUC3].New()\n",
    "changeInformationImageFilter.SetInput(segmentationImage)\n",
    "changeInformationImageFilter.UseReferenceImageOn()\n",
    "changeInformationImageFilter.ChangeDirectionOn()\n",
    "changeInformationImageFilter.ChangeSpacingOn()\n",
    "changeInformationImageFilter.ChangeOriginOn()\n",
    "changeInformationImageFilter.SetReferenceImage(castImageFilter.GetOutput())\n",
    "\n",
    "# Resample Labels to match DICOM\n",
    "resampleImageFilter = itk.ResampleImageFilter[IUC3, IUC3].New()\n",
    "resampleImageFilter.SetInput(changeInformationImageFilter.GetOutput())\n",
    "resampleImageFilter.SetTransform(itk.IdentityTransform[itk.D, 3].New())\n",
    "resampleImageFilter.SetInterpolator(itk.NearestNeighborInterpolateImageFunction[IUC3, itk.D].New())\n",
    "resampleImageFilter.UseReferenceImageOn()\n",
    "resampleImageFilter.SetReferenceImage(imageSeriesReader.GetOutput())\n",
    "labelImageToLabelMapFilter = itk.LabelImageToLabelMapFilter[IUC3, LMLOUL3].New()\n",
    "labelImageToLabelMapFilter.SetInput(resampleImageFilter.GetOutput())"
   ]
  },
  {
   "cell_type": "markdown",
   "metadata": {},
   "source": [
    "# Overlay"
   ]
  },
  {
   "cell_type": "code",
   "execution_count": 105,
   "metadata": {
    "collapsed": true
   },
   "outputs": [],
   "source": [
    "labelMapOverlayImageFilter = itk.LabelMapOverlayImageFilter[LMLOUL3, IUC3, IRGBUC3].New()\n",
    "labelMapOverlayImageFilter.SetInput(labelImageToLabelMapFilter.GetOutput())\n",
    "labelMapOverlayImageFilter.SetFeatureImage(castImageFilter.GetOutput())\n",
    "labelMapOverlayImageFilter.SetOpacity( 0.5 )\n",
    "labelMapOverlayImageFilter.Update()"
   ]
  },
  {
   "cell_type": "code",
   "execution_count": 107,
   "metadata": {},
   "outputs": [
    {
     "data": {
      "text/plain": [
       "<matplotlib.image.AxesImage at 0x121d83240>"
      ]
     },
     "execution_count": 107,
     "metadata": {},
     "output_type": "execute_result"
    },
    {
     "data": {
      "image/png": "[encoded data removed]",
      "text/plain": [
       "<matplotlib.figure.Figure at 0x127aeaf28>"
      ]
     },
     "metadata": {},
     "output_type": "display_data"
    }
   ],
   "source": [
    "overlay = itk.GetArrayFromImage(labelMapOverlayImageFilter.GetOutput())\n",
    "plt.imshow(overlay[SLICE])"
   ]
  },
  {
   "cell_type": "code",
   "execution_count": null,
   "metadata": {
    "collapsed": true
   },
   "outputs": [],
   "source": []
  }
 ],
 "metadata": {
  "kernelspec": {
   "display_name": "Python 3",
   "language": "python",
   "name": "python3"
  },
  "language_info": {
   "codemirror_mode": {
    "name": "ipython",
    "version": 3
   },
   "file_extension": ".py",
   "mimetype": "text/x-python",
   "name": "python",
   "nbconvert_exporter": "python",
   "pygments_lexer": "ipython3",
   "version": "3.6.3"
  }
 },
 "nbformat": 4,
 "nbformat_minor": 2
}
