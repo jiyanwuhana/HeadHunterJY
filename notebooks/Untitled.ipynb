{
 "cells": [
  {
   "cell_type": "code",
   "execution_count": 12,
   "metadata": {
    "collapsed": true
   },
   "outputs": [],
   "source": [
    "import os, glob\n",
    "import numpy as np\n",
    "import matplotlib.pyplot as plt\n",
    " \n",
    "def anonymize_img(jpg_path, new_jpg_path):\n",
    "    try:\n",
    "        arr = plt.imread(jpg_path)\n",
    "        arr[:230,:,:] = 255\n",
    "        arr[-100:,:,:] = 255\n",
    "        plt.imsave(new_jpg_path, arr)\n",
    "    except Exception as e:\n",
    "        print(e)"
   ]
  },
  {
   "cell_type": "code",
   "execution_count": 13,
   "metadata": {
    "collapsed": true
   },
   "outputs": [],
   "source": [
    "bp = '/Volumes/A2/Cleaned/biao_pi_yang/clean/*/*/*'"
   ]
  },
  {
   "cell_type": "code",
   "execution_count": 16,
   "metadata": {},
   "outputs": [],
   "source": [
    "folderlist = glob.glob(bp)\n",
    "folderlist = [i for i in folderlist if 'jpg' in i]\n",
    "for report in folderlist:\n",
    "    anonymize_img(report,report)"
   ]
  },
  {
   "cell_type": "code",
   "execution_count": 15,
   "metadata": {},
   "outputs": [
    {
     "data": {
      "text/plain": [
       "['/Volumes/A2/Cleaned/biao_pi_yang/clean/385245/1/report.jpg',\n",
       " '/Volumes/A2/Cleaned/biao_pi_yang/clean/385245/2/report.jpg',\n",
       " '/Volumes/A2/Cleaned/biao_pi_yang/clean/M548711/1/report.jpg',\n",
       " '/Volumes/A2/Cleaned/biao_pi_yang/clean/M548711/2/report.jpg']"
      ]
     },
     "execution_count": 15,
     "metadata": {},
     "output_type": "execute_result"
    }
   ],
   "source": [
    "folderlist"
   ]
  },
  {
   "cell_type": "code",
   "execution_count": null,
   "metadata": {
    "collapsed": true
   },
   "outputs": [],
   "source": []
  }
 ],
 "metadata": {
  "kernelspec": {
   "display_name": "Python 3",
   "language": "python",
   "name": "python3"
  },
  "language_info": {
   "codemirror_mode": {
    "name": "ipython",
    "version": 3
   },
   "file_extension": ".py",
   "mimetype": "text/x-python",
   "name": "python",
   "nbconvert_exporter": "python",
   "pygments_lexer": "ipython3",
   "version": "3.6.2"
  }
 },
 "nbformat": 4,
 "nbformat_minor": 2
}
